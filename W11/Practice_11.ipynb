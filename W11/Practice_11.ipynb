{
 "cells": [
  {
   "cell_type": "markdown",
   "id": "d9e8333e",
   "metadata": {},
   "source": [
    "# 1. DeepWalk"
   ]
  },
  {
   "cell_type": "markdown",
   "id": "ace35f52",
   "metadata": {},
   "source": [
    "## 1.1. Load dataset"
   ]
  },
  {
   "cell_type": "code",
   "execution_count": 1,
   "id": "2604c053",
   "metadata": {},
   "outputs": [
    {
     "name": "stdout",
     "output_type": "stream",
     "text": [
      "(34, 34)\n"
     ]
    }
   ],
   "source": [
    "import pandas as pd\n",
    "import numpy as np\n",
    "import random\n",
    "import networkx as nx\n",
    "from matplotlib import pyplot as plt \n",
    "np.random.seed(15)\n",
    "\n",
    "\n",
    "#Load data\n",
    "adjlist = nx.read_adjlist(\"./data/karate_club.adjlist\", nodetype=int)\n",
    "karate_label = np.loadtxt(\"./data/karate_label.txt\")\n",
    "Graph = nx.read_adjlist(\"./data/karate_club.adjlist\", nodetype=int)\n",
    "node_number = nx.to_pandas_adjacency(Graph).columns\n",
    "\n",
    "\n",
    "adj = nx.to_numpy_array(adjlist)\n",
    "#label = karate_label[:,-1]\n",
    "\n",
    "print(adj.shape)\n",
    "#print(label.shape)"
   ]
  },
  {
   "cell_type": "markdown",
   "id": "aa46cd51",
   "metadata": {},
   "source": [
    "## 1.2. Activation function\n"
   ]
  },
  {
   "cell_type": "code",
   "execution_count": 2,
   "id": "496ae351",
   "metadata": {},
   "outputs": [],
   "source": [
    "def softmax(x):\n",
    "    c = np.max(x)\n",
    "    b = x-c\n",
    "    exp_x = np.exp(b)\n",
    "    sum_exp_x = np.sum(exp_x)\n",
    "    y = exp_x / sum_exp_x\n",
    "    return y"
   ]
  },
  {
   "cell_type": "markdown",
   "id": "1524a32c",
   "metadata": {},
   "source": [
    "### 1.3. FC layer, Random walk "
   ]
  },
  {
   "cell_type": "code",
   "execution_count": 3,
   "id": "26d2f011",
   "metadata": {},
   "outputs": [],
   "source": [
    "#Fully connected layer\n",
    "class ann:\n",
    "    def __init__(self, input_size, hidden_size, output_size):\n",
    "        # setting the shape of the layer and putting random inital value\n",
    "        self.params = {}\n",
    "        self.params['W1'] = np.random.randn(input_size, hidden_size)\n",
    "        self.params['W2'] = np.random.randn(hidden_size, output_size)\n",
    "\n",
    "    # Calculating the Values\n",
    "    def gradient(self, x, y):\n",
    "        # forward\n",
    "        W1, W2 = self.params['W1'], self.params['W2']\n",
    "        h = np.dot(x, W1)\n",
    "        # H = softmax(U)\n",
    "\n",
    "        U2 = np.dot(h, W2)\n",
    "        Y = softmax(U2)\n",
    "\n",
    "        diff = (Y - y)  # 34*1\n",
    "\n",
    "        ERR2 = np.outer(h, diff)\n",
    "\n",
    "        # backpropagation\n",
    "        # ERR2 = (-np.log(np.abs(Y-y)))*Y*(1-Y)\n",
    "        ERR = np.outer(x, np.dot(W2, diff))\n",
    "\n",
    "        return ERR, ERR2, diff, Y\n",
    "\n",
    "w = 3 #window_size w\n",
    "d = 4 #embedding size d\n",
    "r = 10 # walks per vertex\n",
    "t = 10 # walk length\n",
    "learning_rate = 0.0001\n",
    "\n",
    "#Params\n",
    "n_network = ann(input_size = 34,hidden_size = d,output_size = 34)\n",
    "#P = np.random.random((34,d)) # Work as W1 (input_size,hidden_size)\n",
    "#Q = np.random.random((d,34)) # work as W2 (hidden_size, input_size)\n",
    "\n",
    "def random_walk(vertex, t):\n",
    "    ans = []\n",
    "    ans.append(vertex)\n",
    "\n",
    "    while True:\n",
    "        # stop untill the window size get t\n",
    "        if len(ans) == t:\n",
    "            return ans\n",
    "\n",
    "        # check nearest vertexs\n",
    "        vertex_adj_list = list(adj[vertex])\n",
    "        near_vertex_index = np.nonzero(vertex_adj_list)\n",
    "\n",
    "        # choose the nearess vertex randomly\n",
    "        get_vertex = np.random.choice(list(near_vertex_index[0]), 1)\n",
    "        ans.append(get_vertex[0])\n",
    "        vertex = get_vertex[0]\n",
    "\n",
    "\n",
    "def skipgram(W, w, loss):\n",
    "    new_loss = np.zeros(34)\n",
    "    loss = 0\n",
    "    for idx, vertex in enumerate(W):\n",
    "        # making u_list considering w\n",
    "        start = idx - w\n",
    "        end = idx + w\n",
    "        if start < 0:\n",
    "            start = 0\n",
    "        if end >= len(W):\n",
    "            end = len(W) - 1\n",
    "\n",
    "        u_list = []\n",
    "        u_list.extend(W[start:idx])\n",
    "        u_list.extend(W[idx + 1:end + 1])\n",
    "\n",
    "        # calculating each u from u_list\n",
    "        for each_u in u_list:\n",
    "            # input, ouput with one-hot encoding\n",
    "            input_vertex = np.zeros(34)\n",
    "            y_pred = np.zeros(34)\n",
    "            v = vertex\n",
    "            u = each_u\n",
    "            input_vertex[v] = 1\n",
    "            y_pred[u] = 1\n",
    "\n",
    "            # gradient (forward,backpropa)\n",
    "\n",
    "            ERR, ERR2, diff, Y = n_network.gradient(input_vertex, y_pred)\n",
    "            # updata params\n",
    "            n_network.params['W1'] -= learning_rate * ERR\n",
    "            n_network.params['W2'] -= learning_rate * ERR2\n",
    "            # n_network.params['W2'] -= np.reshape(learning_rate * ERR2 * H.T, (d,34))\n",
    "\n",
    "            # calculating loss\n",
    "            loss += -np.log(Y[each_u])\n",
    "        # new_loss = new_loss / len(u_list)\n",
    "    return loss\n",
    "\n",
    "\n",
    "epoch = 100\n",
    "epoch_loss2 = []\n",
    "loss = np.zeros((34, 34))\n",
    "for _ in range(epoch):\n",
    "    epoch_loss = 0\n",
    "    for i in range(r):\n",
    "        O = np.arange(34)\n",
    "        np.random.shuffle(O)\n",
    "\n",
    "        for vertex in O:\n",
    "            W = random_walk(vertex, t)\n",
    "            loss = skipgram(W, w, loss)\n",
    "            epoch_loss += (loss / len(W))\n",
    "\n",
    "    # h = np.dot(adj[1],W1)\n",
    "    # H = softmax(U)\n",
    "\n",
    "    # U2 = np.dot(h,W2)\n",
    "    # Y = softmax(U2)\n",
    "    # aa = np.mean(-np.log(Y -adj[1]))\n",
    "    epoch_loss2.append(np.mean(epoch_loss) / (len(O) * r))\n",
    "    # calculating loss\n",
    "    # n_network.params['W1']\n"
   ]
  },
  {
   "cell_type": "markdown",
   "id": "9e89b5a8",
   "metadata": {},
   "source": [
    "## 1.4. Visualize random walk with t-SNE"
   ]
  },
  {
   "cell_type": "code",
   "execution_count": 4,
   "id": "7af01b35",
   "metadata": {},
   "outputs": [
    {
     "data": {
      "image/png": "[encoded data removed]",
      "text/plain": [
       "<Figure size 640x480 with 1 Axes>"
      ]
     },
     "metadata": {},
     "output_type": "display_data"
    },
    {
     "data": {
      "image/png": "[encoded data removed]",
      "text/plain": [
       "<Figure size 640x480 with 1 Axes>"
      ]
     },
     "metadata": {},
     "output_type": "display_data"
    }
   ],
   "source": [
    "from matplotlib import pyplot as plt\n",
    "from sklearn.decomposition import PCA\n",
    "\n",
    "plt.plot(epoch_loss2)\n",
    "plt.title(\"the loss - the number of epochs\")\n",
    "plt.xlabel(\"Number of epochs\")\n",
    "plt.ylabel(\"loss\")\n",
    "plt.show()\n",
    "\n",
    "nums = np.identity(34)\n",
    "W1 = n_network.params['W1']\n",
    "output = np.dot(nums , W1)\n",
    "adj = nx.to_numpy_array(adjlist)\n",
    "label = karate_label[:,-1]\n",
    "\n",
    "\n",
    "node_number\n",
    "label\n",
    "label_fix = []\n",
    "for i in node_number:\n",
    "    tem = label[i]\n",
    "    label_fix.append(tem)\n",
    "\n",
    "import matplotlib.pyplot as plt\n",
    "from sklearn.manifold import TSNE\n",
    "\n",
    "model = TSNE(learning_rate=100,perplexity=5)\n",
    "transformed = model.fit_transform(output)\n",
    "xs = transformed[:,0]\n",
    "ys = transformed[:,1]\n",
    "\n",
    "for i in range(len(xs)):\n",
    "    plt.scatter(xs[i],ys[i],c = node_number[i])\n",
    "    plt.text(xs[i],ys[i],i+1)\n",
    "plt.scatter(xs,ys,c=label_fix)\n",
    "#plt.text(xs,ys)\n",
    "plt.show()"
   ]
  },
  {
   "cell_type": "markdown",
   "id": "53d2eb85",
   "metadata": {},
   "source": [
    "# 2. node2vec"
   ]
  },
  {
   "cell_type": "markdown",
   "id": "bdb90be7",
   "metadata": {},
   "source": [
    "## 2.1. Random walk"
   ]
  },
  {
   "cell_type": "code",
   "execution_count": 8,
   "id": "09290175",
   "metadata": {},
   "outputs": [],
   "source": [
    "import random\n",
    "from tqdm import tqdm\n",
    "\n",
    "# Generate random walks on the graph\n",
    "def parallel_generate_walks(d_graph: dict, global_walk_length: int, num_walks: int, cpu_num: int,\n",
    "                            sampling_strategy: dict = None, num_walks_key: str = None, walk_length_key: str = None,\n",
    "                            neighbors_key: str = None, probabilities_key: str = None, first_travel_key: str = None,\n",
    "                            quiet: bool = False) -> list:\n",
    "    \"\"\"\n",
    "    Generates the random walks which will be used as the skip-gram input.\n",
    "\n",
    "    :return: List of walks. Each walk is a list of nodes.\n",
    "    \"\"\"\n",
    "\n",
    "    walks = list()\n",
    "\n",
    "    if not quiet:\n",
    "        pbar = tqdm(total=num_walks, desc='Generating walks (CPU: {})'.format(cpu_num))\n",
    "\n",
    "    for n_walk in range(num_walks):\n",
    "\n",
    "        # Update progress bar\n",
    "        if not quiet:\n",
    "            pbar.update(1)\n",
    "\n",
    "        # Shuffle the nodes\n",
    "        shuffled_nodes = list(d_graph.keys())\n",
    "        random.shuffle(shuffled_nodes)\n",
    "\n",
    "        # Start a random walk from every node\n",
    "        for source in shuffled_nodes:\n",
    "\n",
    "            # Skip nodes with specific num_walks\n",
    "            if source in sampling_strategy and \\\n",
    "                    num_walks_key in sampling_strategy[source] and \\\n",
    "                    sampling_strategy[source][num_walks_key] <= n_walk:\n",
    "                continue\n",
    "\n",
    "            # Start walk\n",
    "            walk = [source]\n",
    "\n",
    "            # Calculate walk length\n",
    "            if source in sampling_strategy:\n",
    "                walk_length = sampling_strategy[source].get(walk_length_key, global_walk_length)\n",
    "            else:\n",
    "                walk_length = global_walk_length\n",
    "\n",
    "            # Perform walk\n",
    "            while len(walk) < walk_length:\n",
    "\n",
    "                walk_options = d_graph[walk[-1]].get(neighbors_key, None)\n",
    "\n",
    "                # Skip dead end nodes\n",
    "                if not walk_options:\n",
    "                    break\n",
    "\n",
    "                if len(walk) == 1:  # For the first step\n",
    "                    probabilities = d_graph[walk[-1]][first_travel_key]\n",
    "                    walk_to = random.choices(walk_options, weights=probabilities)[0]\n",
    "                else:\n",
    "                    probabilities = d_graph[walk[-1]][probabilities_key][walk[-2]]\n",
    "                    walk_to = random.choices(walk_options, weights=probabilities)[0]\n",
    "\n",
    "                walk.append(walk_to)\n",
    "\n",
    "            walk = list(map(str, walk))  # Convert all to strings\n",
    "\n",
    "            walks.append(walk)\n",
    "\n",
    "    if not quiet:\n",
    "        pbar.close()\n",
    "\n",
    "    return walks"
   ]
  },
  {
   "cell_type": "code",
   "execution_count": 7,
   "id": "dee4607d",
   "metadata": {},
   "outputs": [],
   "source": [
    "from importlib.metadata import version\n",
    "\n",
    "def is_dated_gensim_version():\n",
    "    return version(\"gensim\") < '4.0.0'"
   ]
  },
  {
   "cell_type": "markdown",
   "id": "9e3ecf95",
   "metadata": {},
   "source": [
    "## 2.2. Create Node2Vec"
   ]
  },
  {
   "cell_type": "code",
   "execution_count": 4,
   "id": "9668a553",
   "metadata": {},
   "outputs": [],
   "source": [
    "import os\n",
    "import random\n",
    "from collections import defaultdict\n",
    "\n",
    "import gensim\n",
    "import networkx as nx\n",
    "import numpy as np\n",
    "from joblib import Parallel, delayed\n",
    "from tqdm.auto import tqdm\n",
    "\n",
    "\n",
    "\n",
    "class Node2Vec:\n",
    "    FIRST_TRAVEL_KEY = 'first_travel_key'\n",
    "    PROBABILITIES_KEY = 'probabilities'\n",
    "    NEIGHBORS_KEY = 'neighbors'\n",
    "    WEIGHT_KEY = 'weight'\n",
    "    NUM_WALKS_KEY = 'num_walks'\n",
    "    WALK_LENGTH_KEY = 'walk_length'\n",
    "    P_KEY = 'p'\n",
    "    Q_KEY = 'q'\n",
    "\n",
    "    def __init__(self, graph: nx.Graph, dimensions: int = 128, walk_length: int = 80, num_walks: int = 10, p: float = 1,\n",
    "                 q: float = 1, weight_key: str = 'weight', workers: int = 1, sampling_strategy: dict = None,\n",
    "                 quiet: bool = False, temp_folder: str = None, seed: int = None):\n",
    "        \"\"\"\n",
    "        Initiates the Node2Vec object, precomputes walking probabilities and generates the walks.\n",
    "\n",
    "        :param graph: Input graph\n",
    "        :param dimensions: Embedding dimensions (default: 128)\n",
    "        :param walk_length: Number of nodes in each walk (default: 80)\n",
    "        :param num_walks: Number of walks per node (default: 10)\n",
    "        :param p: Return hyper parameter (default: 1)\n",
    "        :param q: Inout parameter (default: 1)\n",
    "        :param weight_key: On weighted graphs, this is the key for the weight attribute (default: 'weight')\n",
    "        :param workers: Number of workers for parallel execution (default: 1)\n",
    "        :param sampling_strategy: Node specific sampling strategies, supports setting node specific 'q', 'p', 'num_walks' and 'walk_length'.\n",
    "        :param seed: Seed for the random number generator.\n",
    "        Use these keys exactly. If not set, will use the global ones which were passed on the object initialization\n",
    "        :param temp_folder: Path to folder with enough space to hold the memory map of self.d_graph (for big graphs); to be passed joblib.Parallel.temp_folder\n",
    "        \"\"\"\n",
    "\n",
    "        self.graph = graph\n",
    "        self.dimensions = dimensions\n",
    "        self.walk_length = walk_length\n",
    "        self.num_walks = num_walks\n",
    "        self.p = p\n",
    "        self.q = q\n",
    "        self.weight_key = weight_key\n",
    "        self.workers = workers\n",
    "        self.quiet = quiet\n",
    "        self.d_graph = defaultdict(dict)\n",
    "\n",
    "        if sampling_strategy is None:\n",
    "            self.sampling_strategy = {}\n",
    "        else:\n",
    "            self.sampling_strategy = sampling_strategy\n",
    "\n",
    "        self.temp_folder, self.require = None, None\n",
    "        if temp_folder:\n",
    "            if not os.path.isdir(temp_folder):\n",
    "                raise NotADirectoryError(\"temp_folder does not exist or is not a directory. ({})\".format(temp_folder))\n",
    "\n",
    "            self.temp_folder = temp_folder\n",
    "            self.require = \"sharedmem\"\n",
    "\n",
    "        if seed is not None:\n",
    "            random.seed(seed)\n",
    "            np.random.seed(seed)\n",
    "\n",
    "        self._precompute_probabilities()\n",
    "        self.walks = self._generate_walks()\n",
    "\n",
    "    def _precompute_probabilities(self):\n",
    "        \"\"\"\n",
    "        Precomputes transition probabilities for each node.\n",
    "        \"\"\"\n",
    "\n",
    "        d_graph = self.d_graph\n",
    "\n",
    "        nodes_generator = self.graph.nodes() if self.quiet \\\n",
    "            else tqdm(self.graph.nodes(), desc='Computing transition probabilities')\n",
    "\n",
    "        for source in nodes_generator:\n",
    "\n",
    "            # Init probabilities dict for first travel\n",
    "            if self.PROBABILITIES_KEY not in d_graph[source]:\n",
    "                d_graph[source][self.PROBABILITIES_KEY] = dict()\n",
    "\n",
    "            for current_node in self.graph.neighbors(source):\n",
    "\n",
    "                # Init probabilities dict\n",
    "                if self.PROBABILITIES_KEY not in d_graph[current_node]:\n",
    "                    d_graph[current_node][self.PROBABILITIES_KEY] = dict()\n",
    "\n",
    "                unnormalized_weights = list()\n",
    "                d_neighbors = list()\n",
    "\n",
    "                # Calculate unnormalized weights\n",
    "                for destination in self.graph.neighbors(current_node):\n",
    "\n",
    "                    p = self.sampling_strategy[current_node].get(self.P_KEY,\n",
    "                                                                 self.p) if current_node in self.sampling_strategy else self.p\n",
    "                    q = self.sampling_strategy[current_node].get(self.Q_KEY,\n",
    "                                                                 self.q) if current_node in self.sampling_strategy else self.q\n",
    "\n",
    "                    try:\n",
    "                        if self.graph[current_node][destination].get(self.weight_key):\n",
    "                            weight = self.graph[current_node][destination].get(self.weight_key, 1)\n",
    "                        else: \n",
    "                            ## Example : AtlasView({0: {'type': 1, 'weight':0.1}})- when we have edge weight\n",
    "                            edge = list(self.graph[current_node][destination])[-1]\n",
    "                            weight = self.graph[current_node][destination][edge].get(self.weight_key, 1)\n",
    "                            \n",
    "                    except:\n",
    "                        weight = 1 \n",
    "                    \n",
    "                    if destination == source:  # Backwards probability\n",
    "                        ss_weight = weight * 1 / p\n",
    "                    elif destination in self.graph[source]:  # If the neighbor is connected to the source\n",
    "                        ss_weight = weight\n",
    "                    else:\n",
    "                        ss_weight = weight * 1 / q\n",
    "\n",
    "                    # Assign the unnormalized sampling strategy weight, normalize during random walk\n",
    "                    unnormalized_weights.append(ss_weight)\n",
    "                    d_neighbors.append(destination)\n",
    "\n",
    "                # Normalize\n",
    "                unnormalized_weights = np.array(unnormalized_weights)\n",
    "                d_graph[current_node][self.PROBABILITIES_KEY][\n",
    "                    source] = unnormalized_weights / unnormalized_weights.sum()\n",
    "\n",
    "            # Calculate first_travel weights for source\n",
    "            first_travel_weights = []\n",
    "\n",
    "            for destination in self.graph.neighbors(source):\n",
    "                first_travel_weights.append(self.graph[source][destination].get(self.weight_key, 1))\n",
    "\n",
    "            first_travel_weights = np.array(first_travel_weights)\n",
    "            d_graph[source][self.FIRST_TRAVEL_KEY] = first_travel_weights / first_travel_weights.sum()\n",
    "\n",
    "            # Save neighbors\n",
    "            d_graph[source][self.NEIGHBORS_KEY] = list(self.graph.neighbors(source))\n",
    "\n",
    "    def _generate_walks(self) -> list:\n",
    "        \"\"\"\n",
    "        Generates the random walks which will be used as the skip-gram input.\n",
    "        :return: List of walks. Each walk is a list of nodes.\n",
    "        \"\"\"\n",
    "\n",
    "        flatten = lambda l: [item for sublist in l for item in sublist]\n",
    "\n",
    "        # Split num_walks for each worker\n",
    "        num_walks_lists = np.array_split(range(self.num_walks), self.workers)\n",
    "\n",
    "        walk_results = Parallel(n_jobs=self.workers, temp_folder=self.temp_folder, require=self.require)(\n",
    "            delayed(parallel_generate_walks)(self.d_graph,\n",
    "                                             self.walk_length,\n",
    "                                             len(num_walks),\n",
    "                                             idx,\n",
    "                                             self.sampling_strategy,\n",
    "                                             self.NUM_WALKS_KEY,\n",
    "                                             self.WALK_LENGTH_KEY,\n",
    "                                             self.NEIGHBORS_KEY,\n",
    "                                             self.PROBABILITIES_KEY,\n",
    "                                             self.FIRST_TRAVEL_KEY,\n",
    "                                             self.quiet) for\n",
    "            idx, num_walks\n",
    "            in enumerate(num_walks_lists, 1))\n",
    "\n",
    "        walks = flatten(walk_results)\n",
    "\n",
    "        return walks\n",
    "    \n",
    "    \n",
    "\n",
    "    def fit(self, **skip_gram_params) -> gensim.models.Word2Vec:\n",
    "        \"\"\"\n",
    "        Creates the embeddings using gensim's Word2Vec.\n",
    "        :param skip_gram_params: Parameters for gensim.models.Word2Vec - do not supply 'size' / 'vector_size' it is\n",
    "            taken from the Node2Vec 'dimensions' parameter\n",
    "        :type skip_gram_params: dict\n",
    "        :return: A gensim word2vec model\n",
    "        \"\"\"\n",
    "\n",
    "        if 'workers' not in skip_gram_params:\n",
    "            skip_gram_params['workers'] = self.workers\n",
    "\n",
    "        # Figure out gensim version, naming of output dimensions changed from size to vector_size in v4.0.0\n",
    "        size = 'size' if is_dated_gensim_version() else 'vector_size'\n",
    "        if size not in skip_gram_params:\n",
    "            skip_gram_params[size] = self.dimensions\n",
    "\n",
    "        if 'sg' not in skip_gram_params:\n",
    "            skip_gram_params['sg'] = 1\n",
    "\n",
    "        return gensim.models.Word2Vec(self.walks, **skip_gram_params)\n",
    "    \n",
    "    "
   ]
  },
  {
   "cell_type": "code",
   "execution_count": 5,
   "id": "7bbc8aee",
   "metadata": {},
   "outputs": [],
   "source": [
    "def parallel_generate_walks(d_graph, walk_length, num_walks, idx, sampling_strategy,\n",
    "                            NUM_WALKS_KEY, WALK_LENGTH_KEY, NEIGHBORS_KEY,\n",
    "                            PROBABILITIES_KEY, FIRST_TRAVEL_KEY, quiet):\n",
    "    \"\"\"\n",
    "    Generates random walks for a subset of the total number of walks (used for parallel processing).\n",
    "\n",
    "    :param d_graph: Precomputed probability graph\n",
    "    :param walk_length: Length of each walk\n",
    "    :param num_walks: Number of walks to generate\n",
    "    :param idx: Worker index\n",
    "    :param sampling_strategy: Per-node sampling strategy\n",
    "    :param quiet: Whether to disable tqdm progress\n",
    "    :return: List of walks\n",
    "    \"\"\"\n",
    "\n",
    "    walks = []\n",
    "    nodes = list(d_graph.keys())\n",
    "    rng = np.random.default_rng(seed=idx)  # Deterministic random for reproducibility\n",
    "\n",
    "    iterator = range(num_walks)\n",
    "    if not quiet:\n",
    "        iterator = tqdm(iterator, desc=f'Worker {idx} generating walks')\n",
    "\n",
    "    for _ in iterator:\n",
    "        rng.shuffle(nodes)\n",
    "        for start_node in nodes:\n",
    "            curr_walk_length = sampling_strategy.get(start_node, {}).get(WALK_LENGTH_KEY, walk_length)\n",
    "            walk = [start_node]\n",
    "\n",
    "            if len(d_graph[start_node][NEIGHBORS_KEY]) == 0:\n",
    "                continue\n",
    "\n",
    "            # First step\n",
    "            first_probs = d_graph[start_node][FIRST_TRAVEL_KEY]\n",
    "            first_neighbors = d_graph[start_node][NEIGHBORS_KEY]\n",
    "            next_node = rng.choice(first_neighbors, p=first_probs)\n",
    "            walk.append(next_node)\n",
    "\n",
    "            for _ in range(curr_walk_length - 2):\n",
    "                prev = walk[-2]\n",
    "                curr = walk[-1]\n",
    "\n",
    "                neighbors = d_graph[curr][NEIGHBORS_KEY]\n",
    "                if len(neighbors) == 0:\n",
    "                    break\n",
    "\n",
    "                probs = d_graph[curr][PROBABILITIES_KEY][prev]\n",
    "                next_node = rng.choice(neighbors, p=probs)\n",
    "                walk.append(next_node)\n",
    "\n",
    "            walks.append(walk)\n",
    "\n",
    "    return walks\n"
   ]
  },
  {
   "cell_type": "markdown",
   "id": "7a7aeb81",
   "metadata": {},
   "source": [
    "## 2.3. Run Node2Vec to generate embeddings "
   ]
  },
  {
   "cell_type": "code",
   "execution_count": 8,
   "id": "5c7b57ac",
   "metadata": {},
   "outputs": [
    {
     "data": {
      "application/vnd.jupyter.widget-view+json": {
       "model_id": "c47ae3c6e5aa452e84dcdd0bbdf7a2c1",
       "version_major": 2,
       "version_minor": 0
      },
      "text/plain": [
       "Computing transition probabilities:   0%|          | 0/34 [00:00<?, ?it/s]"
      ]
     },
     "metadata": {},
     "output_type": "display_data"
    },
    {
     "name": "stderr",
     "output_type": "stream",
     "text": [
      "Worker 1 generating walks: 100%|██████████| 50/50 [00:00<00:00, 180.22it/s]\n",
      "Worker 2 generating walks: 100%|██████████| 50/50 [00:00<00:00, 179.76it/s]\n",
      "Worker 4 generating walks: 100%|██████████| 50/50 [00:00<00:00, 179.85it/s]\n",
      "Worker 3 generating walks: 100%|██████████| 50/50 [00:00<00:00, 176.95it/s]\n"
     ]
    }
   ],
   "source": [
    "# Load the Karate Club graph\n",
    "G = nx.karate_club_graph()\n",
    "\n",
    "# Initialize Node2Vec\n",
    "node2vec = Node2Vec(G, dimensions=64, walk_length=30, num_walks=200, workers=4)\n",
    "\n",
    "# Fit the model to the data\n",
    "model = node2vec.fit(window=10, min_count=1, batch_words=4)\n",
    "\n",
    "# Get the embedding of each node\n",
    "node_embeddings = model.wv.vectors"
   ]
  },
  {
   "cell_type": "markdown",
   "id": "01c12341",
   "metadata": {},
   "source": [
    "## 2.4. Visualize Node2Vec embeddings"
   ]
  },
  {
   "cell_type": "code",
   "execution_count": 9,
   "id": "9e994671",
   "metadata": {},
   "outputs": [
    {
     "data": {
      "image/png": "[encoded data removed]",
      "text/plain": [
       "<Figure size 1000x800 with 1 Axes>"
      ]
     },
     "metadata": {},
     "output_type": "display_data"
    }
   ],
   "source": [
    "import networkx as nx\n",
    "import matplotlib.pyplot as plt\n",
    "from sklearn.manifold import TSNE\n",
    "\n",
    "# Use t-SNE to reduce the dimensionality of the embeddings to 2D\n",
    "tsne = TSNE(n_components=2)\n",
    "node_embeddings_2d = tsne.fit_transform(node_embeddings)\n",
    "\n",
    "# Visualize the embeddings\n",
    "plt.figure(figsize=(10, 8))\n",
    "plt.scatter(node_embeddings_2d[:, 0], node_embeddings_2d[:, 1])\n",
    "plt.show()"
   ]
  },
  {
   "cell_type": "markdown",
   "id": "94cf30e2",
   "metadata": {},
   "source": [
    "# 3. node2vec+"
   ]
  },
  {
   "cell_type": "code",
   "execution_count": 10,
   "id": "03785176",
   "metadata": {},
   "outputs": [],
   "source": [
    "import os\n",
    "import random\n",
    "from collections import defaultdict\n",
    "\n",
    "import gensim\n",
    "import networkx as nx\n",
    "import numpy as np\n",
    "from joblib import Parallel, delayed\n",
    "from tqdm.auto import tqdm\n",
    "\n",
    "\n",
    "class Node2VecPlus:\n",
    "    FIRST_TRAVEL_KEY = 'first_travel_key'\n",
    "    PROBABILITIES_KEY = 'probabilities'\n",
    "    NEIGHBORS_KEY = 'neighbors'\n",
    "    WEIGHT_KEY = 'weight'\n",
    "    EDGE_FEATURES_KEY = 'edge_features'  # Main difference\n",
    "    NUM_WALKS_KEY = 'num_walks'\n",
    "    WALK_LENGTH_KEY = 'walk_length'\n",
    "    P_KEY = 'p'\n",
    "    Q_KEY = 'q'\n",
    "\n",
    "    def __init__(self, graph: nx.Graph, dimensions: int = 128, walk_length: int = 80, num_walks: int = 10, p: float = 1,\n",
    "                 q: float = 1, weight_key: str = 'weight', edge_features_key: str = None, workers: int = 1,\n",
    "                 sampling_strategy: dict = None, quiet: bool = False, temp_folder: str = None, seed: int = None):\n",
    "        \"\"\"\n",
    "        Initiates the Node2VecPlus object, precomputes walking probabilities and generates the walks.\n",
    "\n",
    "        :param graph: Input graph\n",
    "        :param dimensions: Embedding dimensions (default: 128)\n",
    "        :param walk_length: Number of nodes in each walk (default: 80)\n",
    "        :param num_walks: Number of walks per node (default: 10)\n",
    "        :param p: Return hyper parameter (default: 1)\n",
    "        :param q: Inout parameter (default: 1)\n",
    "        :param weight_key: On weighted graphs, this is the key for the weight attribute (default: 'weight')\n",
    "        :param edge_features_key: Key for edge features if any (default: None)\n",
    "        :param workers: Number of workers for parallel execution (default: 1)\n",
    "        :param sampling_strategy: Node specific sampling strategies, supports setting node specific 'q', 'p', 'num_walks' and 'walk_length'\n",
    "        :param seed: Seed for the random number generator\n",
    "        :param temp_folder: Path to folder with enough space to hold the memory map of self.d_graph (for big graphs); to be passed joblib.Parallel.temp_folder\n",
    "        \"\"\"\n",
    "\n",
    "        self.graph = graph\n",
    "        self.dimensions = dimensions\n",
    "        self.walk_length = walk_length\n",
    "        self.num_walks = num_walks\n",
    "        self.p = p\n",
    "        self.q = q\n",
    "        self.weight_key = weight_key\n",
    "        self.edge_features_key = edge_features_key\n",
    "        self.workers = workers\n",
    "        self.quiet = quiet\n",
    "        self.d_graph = defaultdict(dict)\n",
    "        self.E = 1e-7\n",
    "\n",
    "        if sampling_strategy is None:\n",
    "            self.sampling_strategy = {}\n",
    "        else:\n",
    "            self.sampling_strategy = sampling_strategy\n",
    "\n",
    "        self.temp_folder, self.require = None, None\n",
    "        if temp_folder:\n",
    "            if not os.path.isdir(temp_folder):\n",
    "                raise NotADirectoryError(\"temp_folder does not exist or is not a directory. ({})\".format(temp_folder))\n",
    "\n",
    "            self.temp_folder = temp_folder\n",
    "            self.require = \"sharedmem\"\n",
    "\n",
    "        if seed is not None:\n",
    "            random.seed(seed)\n",
    "            np.random.seed(seed)\n",
    "\n",
    "        self._precompute_probabilities()\n",
    "        self.walks = self._generate_walks()\n",
    "\n",
    "    def _precompute_probabilities(self):\n",
    "        \"\"\"\n",
    "        Precomputes transition probabilities for each node, including edge features.\n",
    "        \"\"\"\n",
    "\n",
    "        d_graph = self.d_graph\n",
    "\n",
    "        nodes_generator = self.graph.nodes() if self.quiet \\\n",
    "            else tqdm(self.graph.nodes(), desc='Computing transition probabilities')\n",
    "\n",
    "        def calculate_normalized_weights(graph, y, E):\n",
    "            normalized_weights = {}\n",
    "            for v in graph.nodes():\n",
    "                for u in graph.neighbors(v):\n",
    "                    edge_weights = [graph[v][u].get('weight', 1) for u in graph.neighbors(v)]\n",
    "                    mean_weight = np.mean(edge_weights)\n",
    "                    std_weight = np.std(edge_weights)\n",
    "                    a_v = mean_weight + y * std_weight\n",
    "                    w_vu = graph[v][u].get('weight', 1)\n",
    "                    wy_vu = w_vu / max(a_v, E)\n",
    "                    normalized_weights[(v, u)] = wy_vu\n",
    "                    normalized_weights[(u, v)] = wy_vu \n",
    "            return normalized_weights\n",
    "\n",
    "        y = 1\n",
    "        for source in nodes_generator:\n",
    "            normalized_weights = calculate_normalized_weights(self.graph, y, self.E)\n",
    "\n",
    "            # Init probabilities dict for first travel\n",
    "            if self.PROBABILITIES_KEY not in d_graph[source]:\n",
    "                d_graph[source][self.PROBABILITIES_KEY] = dict()\n",
    "\n",
    "            for current_node in self.graph.neighbors(source):\n",
    "\n",
    "                # Init probabilities dict\n",
    "                if self.PROBABILITIES_KEY not in d_graph[current_node]:\n",
    "                    d_graph[current_node][self.PROBABILITIES_KEY] = dict()\n",
    "\n",
    "                unnormalized_weights = list()\n",
    "                d_neighbors = list()\n",
    "\n",
    "                # Calculate unnormalized weights\n",
    "                for destination in self.graph.neighbors(current_node):\n",
    "\n",
    "                    p = self.sampling_strategy[current_node].get(self.P_KEY,\n",
    "                                                                 self.p) if current_node in self.sampling_strategy else self.p\n",
    "                    q = self.sampling_strategy[current_node].get(self.Q_KEY,\n",
    "                                                                 self.q) if current_node in self.sampling_strategy else self.q\n",
    "\n",
    "                    try:\n",
    "                        if self.graph[current_node][destination].get(self.weight_key):\n",
    "                            weight = self.graph[current_node][destination].get(self.weight_key, 1)\n",
    "                        else:\n",
    "                            # Handle different graph data structures with edge weights\n",
    "                            edge = list(self.graph[current_node][destination])[-1]\n",
    "                            weight = self.graph[current_node][destination][edge].get(self.weight_key, 1)\n",
    "                    except:\n",
    "                        weight = 1\n",
    "\n",
    "                    # Calculate bias factor\n",
    "                    if destination == source:  # Case 1: 1/p\n",
    "                        ss_weight = 1 / p\n",
    "                    elif normalized_weights.get((destination, source), 0) >= 1:  # Case 2: 1\n",
    "                        ss_weight = 1\n",
    "                    elif normalized_weights.get((destination, source), 0) < 1 and normalized_weights.get((source, destination), 0) < 1:  # Case 3: min{1,1/q}\n",
    "                        ss_weight = min(1, 1 / q)\n",
    "                    elif normalized_weights.get((destination, source), 0) < 1 and normalized_weights.get((source, destination), 0) >= 1:  # Case 4: 1/q + (1 - 1/q)*normalized of edge weight\n",
    "                        ss_weight = 1 / q + (1 - 1 / q) * normalized_weights.get((destination, source), 1)\n",
    "\n",
    "                    # Incorporate edge features if provided\n",
    "                    if self.edge_features_key:\n",
    "                        edge_features = self.graph[current_node][destination].get(self.edge_features_key, 1)\n",
    "                        ss_weight *= edge_features\n",
    "\n",
    "                    # Assign the unnormalized sampling strategy weight, normalize during random walk\n",
    "                    unnormalized_weights.append(ss_weight)\n",
    "                    d_neighbors.append(destination)\n",
    "\n",
    "                # Normalize\n",
    "                if unnormalized_weights:\n",
    "                    unnormalized_weights = np.array(unnormalized_weights)\n",
    "                    d_graph[current_node][self.PROBABILITIES_KEY][\n",
    "                        source] = unnormalized_weights / unnormalized_weights.sum()\n",
    "\n",
    "            # Calculate first_travel weights for source\n",
    "            first_travel_weights = []\n",
    "\n",
    "            for destination in self.graph.neighbors(source):\n",
    "                first_travel_weights.append(self.graph[source][destination].get(self.weight_key, 1))\n",
    "\n",
    "            if first_travel_weights:\n",
    "                first_travel_weights = np.array(first_travel_weights)\n",
    "                d_graph[source][self.FIRST_TRAVEL_KEY] = first_travel_weights / first_travel_weights.sum()\n",
    "\n",
    "            # Save neighbors\n",
    "            d_graph[source][self.NEIGHBORS_KEY] = list(self.graph.neighbors(source))\n",
    "\n",
    "    def _generate_walks(self) -> list:\n",
    "        \"\"\"\n",
    "        Generates the random walks which will be used as the skip-gram input.\n",
    "        :return: List of walks. Each walk is a list of nodes.\n",
    "        \"\"\"\n",
    "\n",
    "        flatten = lambda l: [item for sublist in l for item in sublist]\n",
    "\n",
    "        # Split num_walks for each worker\n",
    "        num_walks_lists = np.array_split(range(self.num_walks), self.workers)\n",
    "\n",
    "        walk_results = Parallel(n_jobs=self.workers, temp_folder=self.temp_folder, require=self.require)(\n",
    "            delayed(self._parallel_generate_walks)(self.d_graph,\n",
    "                                                   self.walk_length,\n",
    "                                                   len(num_walks),\n",
    "                                                   idx,\n",
    "                                                   self.sampling_strategy,\n",
    "                                                   self.NUM_WALKS_KEY,\n",
    "                                                   self.WALK_LENGTH_KEY,\n",
    "                                                   self.NEIGHBORS_KEY,\n",
    "                                                   self.PROBABILITIES_KEY,\n",
    "                                                   self.FIRST_TRAVEL_KEY,\n",
    "                                                   self.quiet) for\n",
    "            idx, num_walks\n",
    "            in enumerate(num_walks_lists, 1))\n",
    "\n",
    "        walks = flatten(walk_results)\n",
    "\n",
    "        return walks\n",
    "\n",
    "    def _parallel_generate_walks(self, d_graph, walk_length, num_walks, idx, sampling_strategy,\n",
    "                                 NUM_WALKS_KEY, WALK_LENGTH_KEY, NEIGHBORS_KEY, PROBABILITIES_KEY, FIRST_TRAVEL_KEY, quiet):\n",
    "        \"\"\"\n",
    "        Helper function to generate walks in parallel.\n",
    "        \"\"\"\n",
    "        walks = []\n",
    "        for _ in tqdm(range(num_walks), desc=f'Generating walks (worker {idx})', disable=quiet):\n",
    "            for node in d_graph:\n",
    "                walk = [node]\n",
    "                while len(walk) < walk_length:\n",
    "                    cur = walk[-1]\n",
    "                    cur_nbrs = d_graph[cur][NEIGHBORS_KEY]\n",
    "                    if len(walk) == 1:\n",
    "                        walk.append(np.random.choice(cur_nbrs, p=d_graph[cur][FIRST_TRAVEL_KEY]))\n",
    "                    else:\n",
    "                        prev = walk[-2]\n",
    "                        next_node = np.random.choice(cur_nbrs, p=d_graph[cur][PROBABILITIES_KEY][prev])\n",
    "                        walk.append(next_node)\n",
    "                walks.append(walk)\n",
    "        return walks\n",
    "\n",
    "    def fit(self, **skip_gram_params) -> gensim.models.Word2Vec:\n",
    "        \"\"\"\n",
    "        Creates the embeddings using gensim's Word2Vec.\n",
    "        :param skip_gram_params: Parameters for gensim.models.Word2Vec - do not supply 'size' / 'vector_size' it is\n",
    "            taken from the Node2Vec 'dimensions' parameter\n",
    "        :type skip_gram_params: dict\n",
    "        :return: A gensim word2vec model\n",
    "        \"\"\"\n",
    "\n",
    "        if 'workers' not in skip_gram_params:\n",
    "            skip_gram_params['workers'] = self.workers\n",
    "\n",
    "        # Figure out gensim version, naming of output dimensions changed from size to vector_size in v4.0.0\n",
    "        size = 'size' if gensim.__version__ < '4.0.0' else 'vector_size'\n",
    "        if size not in skip_gram_params:\n",
    "            skip_gram_params[size] = self.dimensions\n",
    "\n",
    "        if 'seed' not in skip_gram_params and hasattr(self, 'seed'):\n",
    "            skip_gram_params['seed'] = self.seed\n",
    "\n",
    "        model = gensim.models.Word2Vec(sentences=self.walks, **skip_gram_params)\n",
    "        return model"
   ]
  },
  {
   "cell_type": "markdown",
   "id": "11ef6423",
   "metadata": {},
   "source": [
    "## 3.1. Run Div2Vec to generate embeddings "
   ]
  },
  {
   "cell_type": "code",
   "execution_count": 11,
   "id": "fad7cb55",
   "metadata": {},
   "outputs": [
    {
     "data": {
      "application/vnd.jupyter.widget-view+json": {
       "model_id": "3eca9106931c40f8808379e144bf23b6",
       "version_major": 2,
       "version_minor": 0
      },
      "text/plain": [
       "Computing transition probabilities:   0%|          | 0/34 [00:00<?, ?it/s]"
      ]
     },
     "metadata": {},
     "output_type": "display_data"
    },
    {
     "name": "stderr",
     "output_type": "stream",
     "text": [
      "Generating walks (worker 4): 100%|██████████| 50/50 [00:00<00:00, 195.47it/s]\n",
      "Generating walks (worker 3): 100%|██████████| 50/50 [00:00<00:00, 195.35it/s]\n",
      "Generating walks (worker 1): 100%|██████████| 50/50 [00:00<00:00, 183.99it/s]\n",
      "Generating walks (worker 2): 100%|██████████| 50/50 [00:00<00:00, 194.79it/s]\n"
     ]
    }
   ],
   "source": [
    "# Example usage\n",
    "G = nx.karate_club_graph()\n",
    "node2vecplus = Node2VecPlus(G, dimensions=64, walk_length=30, num_walks=200, workers=4, edge_features_key=1)\n",
    "model = node2vecplus.fit(window=10, min_count=1, batch_words=4)\n",
    "\n",
    "# Get the embedding of each node\n",
    "node_embeddings = model.wv.vectors"
   ]
  },
  {
   "cell_type": "markdown",
   "id": "43619ec1",
   "metadata": {},
   "source": [
    "## 3.2. Visualize Node2VecPlus embedding"
   ]
  },
  {
   "cell_type": "code",
   "execution_count": 12,
   "id": "6b1608b3",
   "metadata": {},
   "outputs": [
    {
     "data": {
      "image/png": "[encoded data removed]",
      "text/plain": [
       "<Figure size 1000x800 with 1 Axes>"
      ]
     },
     "metadata": {},
     "output_type": "display_data"
    }
   ],
   "source": [
    "# Use t-SNE to reduce the dimensionality of the embeddings to 2D\n",
    "from sklearn.manifold import TSNE\n",
    "import matplotlib.pyplot as plt\n",
    "\n",
    "tsne = TSNE(n_components=2)\n",
    "node_embeddings_2d = tsne.fit_transform(node_embeddings)\n",
    "\n",
    "# Visualize the embeddings\n",
    "plt.figure(figsize=(10, 8))\n",
    "plt.scatter(node_embeddings_2d[:, 0], node_embeddings_2d[:, 1])\n",
    "plt.show()"
   ]
  },
  {
   "cell_type": "markdown",
   "id": "2eee6c0a",
   "metadata": {},
   "source": [
    "# 4. Walklets"
   ]
  },
  {
   "cell_type": "markdown",
   "id": "f13fa0e7",
   "metadata": {},
   "source": [
    "### Utils for data reading and writing"
   ]
  },
  {
   "cell_type": "code",
   "execution_count": 13,
   "id": "59347edb",
   "metadata": {},
   "outputs": [],
   "source": [
    "import argparse\n",
    "import pandas as pd\n",
    "import networkx as nx\n",
    "\n",
    "def parameter_parser():\n",
    "    \"\"\"\n",
    "    A method to parse up command line parameters.\n",
    "    By default it gives an embedding of the Facebook food dataset.\n",
    "    The default hyperparameters give a good quality representation without grid search.\n",
    "    Representations are sorted by ID.\n",
    "    \"\"\"\n",
    "    parser = argparse.ArgumentParser(description=\"Run Walklet.\")\n",
    "\n",
    "    parser.add_argument(\"--input\",\n",
    "                        nargs=\"?\",\n",
    "                        default=\"./input/food_edges.csv\",\n",
    "\t                help=\"Input folder with jsons.\")\n",
    "\n",
    "    parser.add_argument(\"--output\",\n",
    "                        nargs=\"?\",\n",
    "                        default=\"./output/food_embedding.csv\",\n",
    "\t                help=\"Embeddings path.\")\n",
    "\n",
    "    parser.add_argument(\"--walk-type\",\n",
    "                        nargs=\"?\",\n",
    "                        default=\"second\",\n",
    "\t                help=\"Random walk order.\")\n",
    "\n",
    "    parser.add_argument(\"--dimensions\",\n",
    "                        type=int,\n",
    "                        default=16,\n",
    "\t                help=\"Number of dimensions. Default is 16.\")\n",
    "\n",
    "    parser.add_argument(\"--walk-number\",\n",
    "                        type=int,\n",
    "                        default=5,\n",
    "\t                help=\"Number of walks. Default is 5.\")\n",
    "\n",
    "    parser.add_argument(\"--walk-length\",\n",
    "                        type=int,\n",
    "                        default=80,\n",
    "\t                help=\"Walk length. Default is 80.\")\n",
    "\n",
    "    parser.add_argument(\"--window-size\",\n",
    "                        type=int,\n",
    "                        default=5,\n",
    "\t                help=\"Number of embeddings. Default is 5.\")\n",
    "\n",
    "    parser.add_argument(\"--workers\",\n",
    "                        type=int,\n",
    "                        default=4,\n",
    "\t                help=\"Number of cores. Default is 4.\")\n",
    "\n",
    "    parser.add_argument(\"--min-count\",\n",
    "                        type=int,\n",
    "                        default=1,\n",
    "\t                help=\"Minimal appearance feature count. Default is 1.\")\n",
    "\n",
    "    parser.add_argument(\"--P\",\n",
    "                        type=float,\n",
    "                        default=1.0,\n",
    "\t                help=\"Return hyperparameter. Default is 1.0.\")\n",
    "\n",
    "    parser.add_argument(\"--Q\",\n",
    "                        type=float,\n",
    "                        default=1.0,\n",
    "\t                help=\"Inout hyperparameter. Default is 1.0.\")\n",
    "\n",
    "    return parser.parse_args()\n",
    "\n",
    "def create_graph(file_name):\n",
    "    \"\"\"\n",
    "    Reading an adjacency list file and returning an Nx graph object.\n",
    "    :param file_name: location of the adjacency list file.\n",
    "    :return graph: Networkx graph object.\n",
    "    \"\"\"\n",
    "    graph = nx.read_adjlist(file_name)\n",
    "    return graph\n",
    "\n",
    "\n",
    "def walk_transformer(walk, length):\n",
    "    \"\"\"\n",
    "    Tranforming a given random walk to have skips.\n",
    "    :param walk: Random walk as a list.\n",
    "    :param length: Skip size.\n",
    "    :return transformed_walk: Walk chunks for training.\n",
    "    \"\"\"\n",
    "    transformed_walk = []\n",
    "    for step in range(length+1):\n",
    "        neighbors = [y for i, y in enumerate(walk[step:]) if i % length == 0]\n",
    "        transformed_walk.append(neighbors)\n",
    "    return transformed_walk"
   ]
  },
  {
   "cell_type": "markdown",
   "id": "52575ab8",
   "metadata": {},
   "source": [
    "## 4.1. Walker classes"
   ]
  },
  {
   "cell_type": "code",
   "execution_count": 14,
   "id": "d5311290",
   "metadata": {},
   "outputs": [],
   "source": [
    "import random\n",
    "import numpy as np\n",
    "import networkx as nx\n",
    "from tqdm import tqdm\n",
    "\n",
    "class FirstOrderRandomWalker:\n",
    "    \"\"\"\n",
    "    Class to do fast first-order random walks.\n",
    "    \"\"\"\n",
    "    def __init__(self, graph, args):\n",
    "        \"\"\"\n",
    "        Constructor for FirstOrderRandomWalker.\n",
    "        :param graph: Nx graph object.\n",
    "        :param args: Arguments object.\n",
    "        \"\"\"\n",
    "        self.graph = graph\n",
    "        self.walk_length = args.walk_length\n",
    "        self.walk_number = args.walk_number\n",
    "        self.walks = []\n",
    "\n",
    "    def do_walk(self, node):\n",
    "        \"\"\"\n",
    "        Doing a single truncated random walk from a source node.\n",
    "        :param node: Source node of the truncated random walk.\n",
    "        :return walk: A single random walk.\n",
    "        \"\"\"\n",
    "        walk = [node]\n",
    "        for _ in range(self.walk_length-1):\n",
    "            nebs = [node for node in self.graph.neighbors(walk[-1])]\n",
    "            if len(nebs) > 0:\n",
    "                walk = walk + random.sample(nebs, 1)\n",
    "        walk = [str(w) for w in walk]\n",
    "        return walk\n",
    "\n",
    "    def do_walks(self):\n",
    "        \"\"\"\n",
    "        Doing a fixed number of truncated random walk from every node in the graph.\n",
    "        \"\"\"\n",
    "        print(\"\\nModel initialized.\\nRandom walks started.\")\n",
    "        for iteration in range(self.walk_number):\n",
    "            print(\"\\nRandom walk round: \"+str(iteration+1)+\"/\"+str(self.walk_number)+\".\\n\")\n",
    "            for node in tqdm(self.graph.nodes()):\n",
    "                walk_from_node = self.do_walk(node)\n",
    "                self.walks.append(walk_from_node)\n",
    "        return self.walks\n",
    "\n",
    "class SecondOrderRandomWalker:\n",
    "    \"\"\"\n",
    "    Class to do second-order random walks.\n",
    "    \"\"\"\n",
    "    def __init__(self, nx_G, is_directed, args):\n",
    "        \"\"\"\n",
    "        Constructor for SecondOrderRandomWalker.\n",
    "        :param  nx_G: Nx graph object.\n",
    "        :param is_directed: Directed nature of the graph -- True/False.\n",
    "        :param args: Arguments object.\n",
    "        \"\"\"\n",
    "        self.G = nx_G\n",
    "        self.nodes = nx.nodes(self.G)\n",
    "        print(\"Edge weighting.\\n\")\n",
    "        for edge in tqdm(self.G.edges()):\n",
    "            self.G[edge[0]][edge[1]]['weight'] = 1.0\n",
    "            self.G[edge[1]][edge[0]]['weight'] = 1.0\n",
    "        self.is_directed = is_directed\n",
    "        self.walk_length = args.walk_length\n",
    "        self.walk_number = args.walk_number\n",
    "        self.p = args.P\n",
    "        self.q = args.Q\n",
    "\n",
    "    def node2vec_walk(self, start_node):\n",
    "        \"\"\"\n",
    "        Simulate a random walk starting from start node.\n",
    "        \"\"\"\n",
    "        G = self.G\n",
    "        alias_nodes = self.alias_nodes\n",
    "        alias_edges = self.alias_edges\n",
    "\n",
    "        walk = [start_node]\n",
    "\n",
    "        while len(walk) < self.walk_length:\n",
    "            cur = walk[-1]\n",
    "            cur_n = sorted(G.neighbors(cur))\n",
    "            if len(cur_n) > 0:\n",
    "                if len(walk) == 1:\n",
    "                    walk.append(cur_n[alias_draw(alias_nodes[cur][0], alias_nodes[cur][1])])\n",
    "                else:\n",
    "                    pre = walk[-2]\n",
    "                    next = cur_n[alias_draw(alias_edges[(pre, cur)][0], alias_edges[(pre, cur)][1])]\n",
    "                    walk.append(next)\n",
    "            else:\n",
    "                break\n",
    "        walk = [str(w) for w in walk]\n",
    "        return walk\n",
    "\n",
    "    def do_walks(self):\n",
    "        \"\"\"\n",
    "        Repeatedly simulate random walks from each node.\n",
    "        \"\"\"\n",
    "        G = self.G\n",
    "        walks = []\n",
    "        nodes = list(G.nodes())\n",
    "        for walk_it in range(self.walk_number):\n",
    "            print(\"\\nRandom walk round: \"+str(walk_it+1)+\"/\"+str(self.walk_number)+\".\\n\")\n",
    "            random.shuffle(nodes)\n",
    "            for node in tqdm(nodes):\n",
    "                walks.append(self.node2vec_walk(start_node=node))\n",
    "\n",
    "        return walks\n",
    "\n",
    "    def get_alias_edge(self, src, dst):\n",
    "        \"\"\"\n",
    "        Get the alias edge setup lists for a given edge.\n",
    "        \"\"\"\n",
    "        G = self.G\n",
    "        p = self.p\n",
    "        q = self.q\n",
    "\n",
    "        unnormalized_probs = []\n",
    "        for dst_nbr in sorted(G.neighbors(dst)):\n",
    "            if dst_nbr == src:\n",
    "                unnormalized_probs.append(G[dst][dst_nbr]['weight']/p)\n",
    "            elif G.has_edge(dst_nbr, src):\n",
    "                unnormalized_probs.append(G[dst][dst_nbr]['weight'])\n",
    "            else:\n",
    "                unnormalized_probs.append(G[dst][dst_nbr]['weight']/q)\n",
    "        norm_const = sum(unnormalized_probs)\n",
    "        normalized_probs = [float(u_prob)/norm_const for u_prob in unnormalized_probs]\n",
    "\n",
    "        return alias_setup(normalized_probs)\n",
    "\n",
    "    def preprocess_transition_probs(self):\n",
    "        \"\"\"\n",
    "        Preprocessing of transition probabilities for guiding the random walks.\n",
    "        \"\"\"\n",
    "        G = self.G\n",
    "        is_directed = self.is_directed\n",
    "\n",
    "        alias_nodes = {}\n",
    "        print(\"\")\n",
    "        print(\"Preprocesing.\\n\")\n",
    "        for node in tqdm(G.nodes()):\n",
    "            unnormalized_probs = [G[node][nbr]['weight'] for nbr in sorted(G.neighbors(node))]\n",
    "            norm_const = sum(unnormalized_probs)\n",
    "            normalized_probs = [float(u_prob)/norm_const for u_prob in unnormalized_probs]\n",
    "            alias_nodes[node] = alias_setup(normalized_probs)\n",
    "\n",
    "        alias_edges = {}\n",
    "        triads = {}\n",
    "\n",
    "        if is_directed:\n",
    "            for edge in G.edges():\n",
    "                alias_edges[edge] = self.get_alias_edge(edge[0], edge[1])\n",
    "        else:\n",
    "            for edge in tqdm(G.edges()):\n",
    "                alias_edges[edge] = self.get_alias_edge(edge[0], edge[1])\n",
    "                alias_edges[(edge[1], edge[0])] = self.get_alias_edge(edge[1], edge[0])\n",
    "\n",
    "        self.alias_nodes = alias_nodes\n",
    "        self.alias_edges = alias_edges\n",
    "\n",
    "        return\n",
    "\n",
    "def alias_setup(probs):\n",
    "    \"\"\"\n",
    "    Compute utility lists for non-uniform sampling from discrete distributions.\n",
    "    \"\"\"\n",
    "    K = len(probs)\n",
    "    q = np.zeros(K)\n",
    "    J = np.zeros(K, dtype=np.int)\n",
    "    smaller = []\n",
    "    larger = []\n",
    "\n",
    "    for kk, prob in enumerate(probs):\n",
    "        q[kk] = K*prob\n",
    "        if q[kk] < 1.0:\n",
    "            smaller.append(kk)\n",
    "        else:\n",
    "            larger.append(kk)\n",
    "\n",
    "    while len(smaller) > 0 and len(larger) > 0:\n",
    "        small = smaller.pop()\n",
    "        large = larger.pop()\n",
    "\n",
    "        J[small] = large\n",
    "        q[large] = q[large] + q[small] - 1.0\n",
    "        if q[large] < 1.0:\n",
    "            smaller.append(large)\n",
    "        else:\n",
    "            larger.append(large)\n",
    "\n",
    "    return J, q\n",
    "\n",
    "def alias_draw(J, q):\n",
    "    \"\"\"\n",
    "    Draw sample from a non-uniform discrete distribution using alias sampling.\n",
    "    \"\"\"\n",
    "    K = len(J)\n",
    "\n",
    "    kk = int(np.floor(np.random.rand()*K))\n",
    "    if np.random.rand() < q[kk]:\n",
    "        return kk\n",
    "    else:\n",
    "        return J[kk]\n"
   ]
  },
  {
   "cell_type": "markdown",
   "id": "2f236478",
   "metadata": {},
   "source": [
    "## 4.2. Walklet"
   ]
  },
  {
   "cell_type": "code",
   "execution_count": 15,
   "id": "8c4f4653",
   "metadata": {},
   "outputs": [],
   "source": [
    "import numpy as np\n",
    "import pandas as pd\n",
    "from gensim.models.word2vec import Word2Vec\n",
    "\n",
    "class WalkletMachine:\n",
    "    \"\"\"\n",
    "    Walklet multi-scale graph factorization machine class.\n",
    "    The graph is being parsed up, random walks are initiated.\n",
    "    Embeddings are fitted, concatenated and the multi-scale embedding is dumped to disk.\n",
    "    \"\"\"\n",
    "    def __init__(self, args):\n",
    "        \"\"\"\n",
    "        Walklet machine constructor.\n",
    "        :param args: Arguments object with the model hyperparameters.\n",
    "        \"\"\"\n",
    "        self.args = args\n",
    "        self.graph = create_graph(self.args.input)\n",
    "        if self.args.walk_type == \"first\":\n",
    "            self.walker = FirstOrderRandomWalker(self.graph, args)\n",
    "        else:\n",
    "            self.walker = SecondOrderRandomWalker(self.graph, False, args)\n",
    "            self.walker.preprocess_transition_probs()\n",
    "        self.walks = self.walker.do_walks()\n",
    "        del self.walker\n",
    "        self.create_embedding()\n",
    "        self.save_model()\n",
    "\n",
    "    def walk_extracts(self, length):\n",
    "        \"\"\"\n",
    "        Extracted walks with skip equal to the length.\n",
    "        :param length: Length of the skip to be used.\n",
    "        :return good_walks: The attenuated random walks.\n",
    "        \"\"\"\n",
    "        good_walks = [walk_transformer(walk, length) for walk in self.walks]\n",
    "        good_walks = [w for walks in good_walks for w in walks]\n",
    "        return good_walks\n",
    "\n",
    "    def get_embedding(self, model):\n",
    "        \"\"\"\n",
    "        Extracting the embedding according to node order from the embedding model.\n",
    "        :param model: A Word2Vec model after model fitting.\n",
    "        :return embedding: A numpy array with the embedding sorted by node IDs.\n",
    "        \"\"\"\n",
    "        embedding = []\n",
    "        for node in range(len(self.graph.nodes())):\n",
    "            embedding.append(list(model.wv[str(node)]))  # Use model.wv to access word vectors\n",
    "        embedding = np.array(embedding)\n",
    "        return embedding\n",
    "\n",
    "\n",
    "    def create_embedding(self):\n",
    "        \"\"\"\n",
    "        Creating a multi-scale embedding.\n",
    "        \"\"\"\n",
    "        self.embedding = []\n",
    "        for index in range(1, self.args.window_size + 1):\n",
    "            print(\"\\nOptimization round: \" + str(index) + \"/\" + str(self.args.window_size) + \".\")\n",
    "            print(\"Creating documents.\")\n",
    "            clean_documents = self.walk_extracts(index)\n",
    "            print(\"Fitting model.\")\n",
    "\n",
    "            model = Word2Vec(clean_documents,\n",
    "                            vector_size=self.args.dimensions,  # Use vector_size instead of size\n",
    "                            window=1,\n",
    "                            min_count=self.args.min_count,\n",
    "                            sg=1,\n",
    "                            workers=self.args.workers)\n",
    "\n",
    "            new_embedding = self.get_embedding(model)\n",
    "            self.embedding = self.embedding + [new_embedding]\n",
    "        self.embedding = np.concatenate(self.embedding, axis=1)\n",
    "\n",
    "\n",
    "    def save_model(self):\n",
    "        \"\"\"\n",
    "        Saving the embedding as a csv with sorted IDs.\n",
    "        \"\"\"\n",
    "        print(\"\\nModels are integrated to be multi scale.\\nSaving to disk.\")\n",
    "        self.column_names = [\"x_\" + str(x) for x in range(self.embedding.shape[1])]\n",
    "        self.embedding = pd.DataFrame(self.embedding, columns=self.column_names)\n",
    "        self.embedding.to_csv(self.args.output, index=None)"
   ]
  },
  {
   "cell_type": "markdown",
   "id": "ef095afd",
   "metadata": {},
   "source": [
    "## 4.3. Create Arguments Object"
   ]
  },
  {
   "cell_type": "code",
   "execution_count": 16,
   "id": "f7a35dc3",
   "metadata": {},
   "outputs": [],
   "source": [
    "class Args:\n",
    "    def __init__(self, input_graph, output, dimensions, window_size, walk_type, min_count, workers, walk_length, walk_number):\n",
    "        self.input = input_graph\n",
    "        self.output = output\n",
    "        self.dimensions = dimensions\n",
    "        self.window_size = window_size\n",
    "        self.walk_type = walk_type\n",
    "        self.min_count = min_count\n",
    "        self.workers = workers\n",
    "        self.walk_length = walk_length  \n",
    "        self.walk_number = walk_number  \n"
   ]
  },
  {
   "cell_type": "markdown",
   "id": "f61bd7d0",
   "metadata": {},
   "source": [
    "## 4.4. Initialize and Run WalkletMachine then Visualize the Embeddings"
   ]
  },
  {
   "cell_type": "code",
   "execution_count": 19,
   "id": "6187a508",
   "metadata": {},
   "outputs": [
    {
     "name": "stdout",
     "output_type": "stream",
     "text": [
      "\n",
      "Model initialized.\n",
      "Random walks started.\n",
      "\n",
      "Random walk round: 1/80.\n",
      "\n"
     ]
    },
    {
     "name": "stderr",
     "output_type": "stream",
     "text": [
      "100%|██████████| 34/34 [00:00<00:00, 93819.96it/s]\n"
     ]
    },
    {
     "name": "stdout",
     "output_type": "stream",
     "text": [
      "\n",
      "Random walk round: 2/80.\n",
      "\n"
     ]
    },
    {
     "name": "stderr",
     "output_type": "stream",
     "text": [
      "100%|██████████| 34/34 [00:00<00:00, 100144.90it/s]\n"
     ]
    },
    {
     "name": "stdout",
     "output_type": "stream",
     "text": [
      "\n",
      "Random walk round: 3/80.\n",
      "\n"
     ]
    },
    {
     "name": "stderr",
     "output_type": "stream",
     "text": [
      "100%|██████████| 34/34 [00:00<00:00, 41992.44it/s]\n"
     ]
    },
    {
     "name": "stdout",
     "output_type": "stream",
     "text": [
      "\n",
      "Random walk round: 4/80.\n",
      "\n"
     ]
    },
    {
     "name": "stderr",
     "output_type": "stream",
     "text": [
      "100%|██████████| 34/34 [00:00<00:00, 98146.14it/s]\n"
     ]
    },
    {
     "name": "stdout",
     "output_type": "stream",
     "text": [
      "\n",
      "Random walk round: 5/80.\n",
      "\n"
     ]
    },
    {
     "name": "stderr",
     "output_type": "stream",
     "text": [
      "100%|██████████| 34/34 [00:00<00:00, 99169.91it/s]\n"
     ]
    },
    {
     "name": "stdout",
     "output_type": "stream",
     "text": [
      "\n",
      "Random walk round: 6/80.\n",
      "\n"
     ]
    },
    {
     "name": "stderr",
     "output_type": "stream",
     "text": [
      "100%|██████████| 34/34 [00:00<00:00, 99377.24it/s]\n"
     ]
    },
    {
     "name": "stdout",
     "output_type": "stream",
     "text": [
      "\n",
      "Random walk round: 7/80.\n",
      "\n"
     ]
    },
    {
     "name": "stderr",
     "output_type": "stream",
     "text": [
      "100%|██████████| 34/34 [00:00<00:00, 97675.57it/s]\n"
     ]
    },
    {
     "name": "stdout",
     "output_type": "stream",
     "text": [
      "\n",
      "Random walk round: 8/80.\n",
      "\n"
     ]
    },
    {
     "name": "stderr",
     "output_type": "stream",
     "text": [
      "100%|██████████| 34/34 [00:00<00:00, 96355.63it/s]\n"
     ]
    },
    {
     "name": "stdout",
     "output_type": "stream",
     "text": [
      "\n",
      "Random walk round: 9/80.\n",
      "\n"
     ]
    },
    {
     "name": "stderr",
     "output_type": "stream",
     "text": [
      "100%|██████████| 34/34 [00:00<00:00, 94191.77it/s]\n"
     ]
    },
    {
     "name": "stdout",
     "output_type": "stream",
     "text": [
      "\n",
      "Random walk round: 10/80.\n",
      "\n"
     ]
    },
    {
     "name": "stderr",
     "output_type": "stream",
     "text": [
      "100%|██████████| 34/34 [00:00<00:00, 91122.26it/s]\n"
     ]
    },
    {
     "name": "stdout",
     "output_type": "stream",
     "text": [
      "\n",
      "Random walk round: 11/80.\n",
      "\n"
     ]
    },
    {
     "name": "stderr",
     "output_type": "stream",
     "text": [
      "100%|██████████| 34/34 [00:00<00:00, 99032.18it/s]\n"
     ]
    },
    {
     "name": "stdout",
     "output_type": "stream",
     "text": [
      "\n",
      "Random walk round: 12/80.\n",
      "\n"
     ]
    },
    {
     "name": "stderr",
     "output_type": "stream",
     "text": [
      "100%|██████████| 34/34 [00:00<00:00, 99446.54it/s]\n"
     ]
    },
    {
     "name": "stdout",
     "output_type": "stream",
     "text": [
      "\n",
      "Random walk round: 13/80.\n",
      "\n"
     ]
    },
    {
     "name": "stderr",
     "output_type": "stream",
     "text": [
      "100%|██████████| 34/34 [00:00<00:00, 97608.72it/s]\n"
     ]
    },
    {
     "name": "stdout",
     "output_type": "stream",
     "text": [
      "\n",
      "Random walk round: 14/80.\n",
      "\n"
     ]
    },
    {
     "name": "stderr",
     "output_type": "stream",
     "text": [
      "100%|██████████| 34/34 [00:00<00:00, 100144.90it/s]\n"
     ]
    },
    {
     "name": "stdout",
     "output_type": "stream",
     "text": [
      "\n",
      "Random walk round: 15/80.\n",
      "\n"
     ]
    },
    {
     "name": "stderr",
     "output_type": "stream",
     "text": [
      "100%|██████████| 34/34 [00:00<00:00, 98689.51it/s]\n"
     ]
    },
    {
     "name": "stdout",
     "output_type": "stream",
     "text": [
      "\n",
      "Random walk round: 16/80.\n",
      "\n"
     ]
    },
    {
     "name": "stderr",
     "output_type": "stream",
     "text": [
      "100%|██████████| 34/34 [00:00<00:00, 96616.76it/s]\n"
     ]
    },
    {
     "name": "stdout",
     "output_type": "stream",
     "text": [
      "\n",
      "Random walk round: 17/80.\n",
      "\n"
     ]
    },
    {
     "name": "stderr",
     "output_type": "stream",
     "text": [
      "100%|██████████| 34/34 [00:00<00:00, 90200.09it/s]\n"
     ]
    },
    {
     "name": "stdout",
     "output_type": "stream",
     "text": [
      "\n",
      "Random walk round: 18/80.\n",
      "\n"
     ]
    },
    {
     "name": "stderr",
     "output_type": "stream",
     "text": [
      "100%|██████████| 34/34 [00:00<00:00, 88685.53it/s]\n"
     ]
    },
    {
     "name": "stdout",
     "output_type": "stream",
     "text": [
      "\n",
      "Random walk round: 19/80.\n",
      "\n"
     ]
    },
    {
     "name": "stderr",
     "output_type": "stream",
     "text": [
      "100%|██████████| 34/34 [00:00<00:00, 92601.52it/s]\n"
     ]
    },
    {
     "name": "stdout",
     "output_type": "stream",
     "text": [
      "\n",
      "Random walk round: 20/80.\n",
      "\n"
     ]
    },
    {
     "name": "stderr",
     "output_type": "stream",
     "text": [
      "100%|██████████| 34/34 [00:00<00:00, 91238.86it/s]\n"
     ]
    },
    {
     "name": "stdout",
     "output_type": "stream",
     "text": [
      "\n",
      "Random walk round: 21/80.\n",
      "\n"
     ]
    },
    {
     "name": "stderr",
     "output_type": "stream",
     "text": [
      "100%|██████████| 34/34 [00:00<00:00, 88465.47it/s]\n"
     ]
    },
    {
     "name": "stdout",
     "output_type": "stream",
     "text": [
      "\n",
      "Random walk round: 22/80.\n",
      "\n"
     ]
    },
    {
     "name": "stderr",
     "output_type": "stream",
     "text": [
      "100%|██████████| 34/34 [00:00<00:00, 94566.54it/s]\n"
     ]
    },
    {
     "name": "stdout",
     "output_type": "stream",
     "text": [
      "\n",
      "Random walk round: 23/80.\n",
      "\n"
     ]
    },
    {
     "name": "stderr",
     "output_type": "stream",
     "text": [
      "100%|██████████| 34/34 [00:00<00:00, 90086.13it/s]\n"
     ]
    },
    {
     "name": "stdout",
     "output_type": "stream",
     "text": [
      "\n",
      "Random walk round: 24/80.\n",
      "\n"
     ]
    },
    {
     "name": "stderr",
     "output_type": "stream",
     "text": [
      "100%|██████████| 34/34 [00:00<00:00, 44370.36it/s]\n"
     ]
    },
    {
     "name": "stdout",
     "output_type": "stream",
     "text": [
      "\n",
      "Random walk round: 25/80.\n",
      "\n"
     ]
    },
    {
     "name": "stderr",
     "output_type": "stream",
     "text": [
      "100%|██████████| 34/34 [00:00<00:00, 55989.92it/s]\n"
     ]
    },
    {
     "name": "stdout",
     "output_type": "stream",
     "text": [
      "\n",
      "Random walk round: 26/80.\n",
      "\n"
     ]
    },
    {
     "name": "stderr",
     "output_type": "stream",
     "text": [
      "100%|██████████| 34/34 [00:00<00:00, 44328.98it/s]\n"
     ]
    },
    {
     "name": "stdout",
     "output_type": "stream",
     "text": [
      "\n",
      "Random walk round: 27/80.\n",
      "\n"
     ]
    },
    {
     "name": "stderr",
     "output_type": "stream",
     "text": [
      "100%|██████████| 34/34 [00:00<00:00, 38762.25it/s]\n"
     ]
    },
    {
     "name": "stdout",
     "output_type": "stream",
     "text": [
      "\n",
      "Random walk round: 28/80.\n",
      "\n"
     ]
    },
    {
     "name": "stderr",
     "output_type": "stream",
     "text": [
      "100%|██████████| 34/34 [00:00<00:00, 58758.28it/s]\n"
     ]
    },
    {
     "name": "stdout",
     "output_type": "stream",
     "text": [
      "\n",
      "Random walk round: 29/80.\n",
      "\n"
     ]
    },
    {
     "name": "stderr",
     "output_type": "stream",
     "text": [
      "100%|██████████| 34/34 [00:00<00:00, 54492.29it/s]\n"
     ]
    },
    {
     "name": "stdout",
     "output_type": "stream",
     "text": [
      "\n",
      "Random walk round: 30/80.\n",
      "\n"
     ]
    },
    {
     "name": "stderr",
     "output_type": "stream",
     "text": [
      "100%|██████████| 34/34 [00:00<00:00, 56860.58it/s]\n"
     ]
    },
    {
     "name": "stdout",
     "output_type": "stream",
     "text": [
      "\n",
      "Random walk round: 31/80.\n",
      "\n"
     ]
    },
    {
     "name": "stderr",
     "output_type": "stream",
     "text": [
      "100%|██████████| 34/34 [00:00<00:00, 59197.32it/s]\n"
     ]
    },
    {
     "name": "stdout",
     "output_type": "stream",
     "text": [
      "\n",
      "Random walk round: 32/80.\n",
      "\n"
     ]
    },
    {
     "name": "stderr",
     "output_type": "stream",
     "text": [
      "100%|██████████| 34/34 [00:00<00:00, 59099.19it/s]\n"
     ]
    },
    {
     "name": "stdout",
     "output_type": "stream",
     "text": [
      "\n",
      "Random walk round: 33/80.\n",
      "\n"
     ]
    },
    {
     "name": "stderr",
     "output_type": "stream",
     "text": [
      "100%|██████████| 34/34 [00:00<00:00, 58661.59it/s]\n"
     ]
    },
    {
     "name": "stdout",
     "output_type": "stream",
     "text": [
      "\n",
      "Random walk round: 34/80.\n",
      "\n"
     ]
    },
    {
     "name": "stderr",
     "output_type": "stream",
     "text": [
      "100%|██████████| 34/34 [00:00<00:00, 59969.02it/s]\n"
     ]
    },
    {
     "name": "stdout",
     "output_type": "stream",
     "text": [
      "\n",
      "Random walk round: 35/80.\n",
      "\n"
     ]
    },
    {
     "name": "stderr",
     "output_type": "stream",
     "text": [
      "100%|██████████| 34/34 [00:00<00:00, 78701.07it/s]\n"
     ]
    },
    {
     "name": "stdout",
     "output_type": "stream",
     "text": [
      "\n",
      "Random walk round: 36/80.\n",
      "\n"
     ]
    },
    {
     "name": "stderr",
     "output_type": "stream",
     "text": [
      "100%|██████████| 34/34 [00:00<00:00, 87542.26it/s]\n"
     ]
    },
    {
     "name": "stdout",
     "output_type": "stream",
     "text": [
      "\n",
      "Random walk round: 37/80.\n",
      "\n"
     ]
    },
    {
     "name": "stderr",
     "output_type": "stream",
     "text": [
      "100%|██████████| 34/34 [00:00<00:00, 99238.93it/s]\n"
     ]
    },
    {
     "name": "stdout",
     "output_type": "stream",
     "text": [
      "\n",
      "Random walk round: 38/80.\n",
      "\n"
     ]
    },
    {
     "name": "stderr",
     "output_type": "stream",
     "text": [
      "100%|██████████| 34/34 [00:00<00:00, 77757.00it/s]\n"
     ]
    },
    {
     "name": "stdout",
     "output_type": "stream",
     "text": [
      "\n",
      "Random walk round: 39/80.\n",
      "\n"
     ]
    },
    {
     "name": "stderr",
     "output_type": "stream",
     "text": [
      "100%|██████████| 34/34 [00:00<00:00, 86062.97it/s]\n"
     ]
    },
    {
     "name": "stdout",
     "output_type": "stream",
     "text": [
      "\n",
      "Random walk round: 40/80.\n",
      "\n"
     ]
    },
    {
     "name": "stderr",
     "output_type": "stream",
     "text": [
      "100%|██████████| 34/34 [00:00<00:00, 84382.45it/s]\n"
     ]
    },
    {
     "name": "stdout",
     "output_type": "stream",
     "text": [
      "\n",
      "Random walk round: 41/80.\n",
      "\n"
     ]
    },
    {
     "name": "stderr",
     "output_type": "stream",
     "text": [
      "100%|██████████| 34/34 [00:00<00:00, 95837.59it/s]\n"
     ]
    },
    {
     "name": "stdout",
     "output_type": "stream",
     "text": [
      "\n",
      "Random walk round: 42/80.\n",
      "\n"
     ]
    },
    {
     "name": "stderr",
     "output_type": "stream",
     "text": [
      "100%|██████████| 34/34 [00:00<00:00, 96945.16it/s]\n"
     ]
    },
    {
     "name": "stdout",
     "output_type": "stream",
     "text": [
      "\n",
      "Random walk round: 43/80.\n",
      "\n"
     ]
    },
    {
     "name": "stderr",
     "output_type": "stream",
     "text": [
      "100%|██████████| 34/34 [00:00<00:00, 98621.26it/s]\n"
     ]
    },
    {
     "name": "stdout",
     "output_type": "stream",
     "text": [
      "\n",
      "Random walk round: 44/80.\n",
      "\n"
     ]
    },
    {
     "name": "stderr",
     "output_type": "stream",
     "text": [
      "100%|██████████| 34/34 [00:00<00:00, 99934.36it/s]\n"
     ]
    },
    {
     "name": "stdout",
     "output_type": "stream",
     "text": [
      "\n",
      "Random walk round: 45/80.\n",
      "\n"
     ]
    },
    {
     "name": "stderr",
     "output_type": "stream",
     "text": [
      "100%|██████████| 34/34 [00:00<00:00, 91180.52it/s]\n"
     ]
    },
    {
     "name": "stdout",
     "output_type": "stream",
     "text": [
      "\n",
      "Random walk round: 46/80.\n",
      "\n"
     ]
    },
    {
     "name": "stderr",
     "output_type": "stream",
     "text": [
      "100%|██████████| 34/34 [00:00<00:00, 95007.55it/s]\n"
     ]
    },
    {
     "name": "stdout",
     "output_type": "stream",
     "text": [
      "\n",
      "Random walk round: 47/80.\n",
      "\n"
     ]
    },
    {
     "name": "stderr",
     "output_type": "stream",
     "text": [
      "100%|██████████| 34/34 [00:00<00:00, 94818.04it/s]\n"
     ]
    },
    {
     "name": "stdout",
     "output_type": "stream",
     "text": [
      "\n",
      "Random walk round: 48/80.\n",
      "\n"
     ]
    },
    {
     "name": "stderr",
     "output_type": "stream",
     "text": [
      "100%|██████████| 34/34 [00:00<00:00, 57595.45it/s]\n"
     ]
    },
    {
     "name": "stdout",
     "output_type": "stream",
     "text": [
      "\n",
      "Random walk round: 49/80.\n",
      "\n"
     ]
    },
    {
     "name": "stderr",
     "output_type": "stream",
     "text": [
      "100%|██████████| 34/34 [00:00<00:00, 82288.71it/s]\n"
     ]
    },
    {
     "name": "stdout",
     "output_type": "stream",
     "text": [
      "\n",
      "Random walk round: 50/80.\n",
      "\n"
     ]
    },
    {
     "name": "stderr",
     "output_type": "stream",
     "text": [
      "100%|██████████| 34/34 [00:00<00:00, 92004.09it/s]\n"
     ]
    },
    {
     "name": "stdout",
     "output_type": "stream",
     "text": [
      "\n",
      "Random walk round: 51/80.\n",
      "\n"
     ]
    },
    {
     "name": "stderr",
     "output_type": "stream",
     "text": [
      "100%|██████████| 34/34 [00:00<00:00, 90257.17it/s]\n"
     ]
    },
    {
     "name": "stdout",
     "output_type": "stream",
     "text": [
      "\n",
      "Random walk round: 52/80.\n",
      "\n"
     ]
    },
    {
     "name": "stderr",
     "output_type": "stream",
     "text": [
      "100%|██████████| 34/34 [00:00<00:00, 79535.05it/s]\n"
     ]
    },
    {
     "name": "stdout",
     "output_type": "stream",
     "text": [
      "\n",
      "Random walk round: 53/80.\n",
      "\n"
     ]
    },
    {
     "name": "stderr",
     "output_type": "stream",
     "text": [
      "100%|██████████| 34/34 [00:00<00:00, 91708.25it/s]\n"
     ]
    },
    {
     "name": "stdout",
     "output_type": "stream",
     "text": [
      "\n",
      "Random walk round: 54/80.\n",
      "\n"
     ]
    },
    {
     "name": "stderr",
     "output_type": "stream",
     "text": [
      "100%|██████████| 34/34 [00:00<00:00, 95773.23it/s]\n"
     ]
    },
    {
     "name": "stdout",
     "output_type": "stream",
     "text": [
      "\n",
      "Random walk round: 55/80.\n",
      "\n"
     ]
    },
    {
     "name": "stderr",
     "output_type": "stream",
     "text": [
      "100%|██████████| 34/34 [00:00<00:00, 84783.79it/s]\n"
     ]
    },
    {
     "name": "stdout",
     "output_type": "stream",
     "text": [
      "\n",
      "Random walk round: 56/80.\n",
      "\n"
     ]
    },
    {
     "name": "stderr",
     "output_type": "stream",
     "text": [
      "100%|██████████| 34/34 [00:00<00:00, 93024.35it/s]\n"
     ]
    },
    {
     "name": "stdout",
     "output_type": "stream",
     "text": [
      "\n",
      "Random walk round: 57/80.\n",
      "\n"
     ]
    },
    {
     "name": "stderr",
     "output_type": "stream",
     "text": [
      "100%|██████████| 34/34 [00:00<00:00, 89689.52it/s]\n"
     ]
    },
    {
     "name": "stdout",
     "output_type": "stream",
     "text": [
      "\n",
      "Random walk round: 58/80.\n",
      "\n"
     ]
    },
    {
     "name": "stderr",
     "output_type": "stream",
     "text": [
      "100%|██████████| 34/34 [00:00<00:00, 99377.24it/s]\n"
     ]
    },
    {
     "name": "stdout",
     "output_type": "stream",
     "text": [
      "\n",
      "Random walk round: 59/80.\n",
      "\n"
     ]
    },
    {
     "name": "stderr",
     "output_type": "stream",
     "text": [
      "100%|██████████| 34/34 [00:00<00:00, 88685.53it/s]\n"
     ]
    },
    {
     "name": "stdout",
     "output_type": "stream",
     "text": [
      "\n",
      "Random walk round: 60/80.\n",
      "\n"
     ]
    },
    {
     "name": "stderr",
     "output_type": "stream",
     "text": [
      "100%|██████████| 34/34 [00:00<00:00, 41930.71it/s]\n"
     ]
    },
    {
     "name": "stdout",
     "output_type": "stream",
     "text": [
      "\n",
      "Random walk round: 61/80.\n",
      "\n"
     ]
    },
    {
     "name": "stderr",
     "output_type": "stream",
     "text": [
      "100%|██████████| 34/34 [00:00<00:00, 98011.23it/s]\n"
     ]
    },
    {
     "name": "stdout",
     "output_type": "stream",
     "text": [
      "\n",
      "Random walk round: 62/80.\n",
      "\n"
     ]
    },
    {
     "name": "stderr",
     "output_type": "stream",
     "text": [
      "100%|██████████| 34/34 [00:00<00:00, 96747.85it/s]\n"
     ]
    },
    {
     "name": "stdout",
     "output_type": "stream",
     "text": [
      "\n",
      "Random walk round: 63/80.\n",
      "\n"
     ]
    },
    {
     "name": "stderr",
     "output_type": "stream",
     "text": [
      "100%|██████████| 34/34 [00:00<00:00, 89184.70it/s]\n"
     ]
    },
    {
     "name": "stdout",
     "output_type": "stream",
     "text": [
      "\n",
      "Random walk round: 64/80.\n",
      "\n"
     ]
    },
    {
     "name": "stderr",
     "output_type": "stream",
     "text": [
      "100%|██████████| 34/34 [00:00<00:00, 91649.32it/s]\n"
     ]
    },
    {
     "name": "stdout",
     "output_type": "stream",
     "text": [
      "\n",
      "Random walk round: 65/80.\n",
      "\n"
     ]
    },
    {
     "name": "stderr",
     "output_type": "stream",
     "text": [
      "100%|██████████| 34/34 [00:00<00:00, 98757.85it/s]\n"
     ]
    },
    {
     "name": "stdout",
     "output_type": "stream",
     "text": [
      "\n",
      "Random walk round: 66/80.\n",
      "\n"
     ]
    },
    {
     "name": "stderr",
     "output_type": "stream",
     "text": [
      "100%|██████████| 34/34 [00:00<00:00, 56232.78it/s]\n"
     ]
    },
    {
     "name": "stdout",
     "output_type": "stream",
     "text": [
      "\n",
      "Random walk round: 67/80.\n",
      "\n"
     ]
    },
    {
     "name": "stderr",
     "output_type": "stream",
     "text": [
      "100%|██████████| 34/34 [00:00<00:00, 97608.72it/s]\n"
     ]
    },
    {
     "name": "stdout",
     "output_type": "stream",
     "text": [
      "\n",
      "Random walk round: 68/80.\n",
      "\n"
     ]
    },
    {
     "name": "stderr",
     "output_type": "stream",
     "text": [
      "100%|██████████| 34/34 [00:00<00:00, 58831.00it/s]\n"
     ]
    },
    {
     "name": "stdout",
     "output_type": "stream",
     "text": [
      "\n",
      "Random walk round: 69/80.\n",
      "\n"
     ]
    },
    {
     "name": "stderr",
     "output_type": "stream",
     "text": [
      "100%|██████████| 34/34 [00:00<00:00, 92721.93it/s]\n"
     ]
    },
    {
     "name": "stdout",
     "output_type": "stream",
     "text": [
      "\n",
      "Random walk round: 70/80.\n",
      "\n"
     ]
    },
    {
     "name": "stderr",
     "output_type": "stream",
     "text": [
      "100%|██████████| 34/34 [00:00<00:00, 88962.16it/s]\n"
     ]
    },
    {
     "name": "stdout",
     "output_type": "stream",
     "text": [
      "\n",
      "Random walk round: 71/80.\n",
      "\n"
     ]
    },
    {
     "name": "stderr",
     "output_type": "stream",
     "text": [
      "100%|██████████| 34/34 [00:00<00:00, 84834.23it/s]\n"
     ]
    },
    {
     "name": "stdout",
     "output_type": "stream",
     "text": [
      "\n",
      "Random walk round: 72/80.\n",
      "\n"
     ]
    },
    {
     "name": "stderr",
     "output_type": "stream",
     "text": [
      "100%|██████████| 34/34 [00:00<00:00, 95261.41it/s]\n"
     ]
    },
    {
     "name": "stdout",
     "output_type": "stream",
     "text": [
      "\n",
      "Random walk round: 73/80.\n",
      "\n"
     ]
    },
    {
     "name": "stderr",
     "output_type": "stream",
     "text": [
      "100%|██████████| 34/34 [00:00<00:00, 98146.14it/s]\n"
     ]
    },
    {
     "name": "stdout",
     "output_type": "stream",
     "text": [
      "\n",
      "Random walk round: 74/80.\n",
      "\n"
     ]
    },
    {
     "name": "stderr",
     "output_type": "stream",
     "text": [
      "100%|██████████| 34/34 [00:00<00:00, 89915.72it/s]\n"
     ]
    },
    {
     "name": "stdout",
     "output_type": "stream",
     "text": [
      "\n",
      "Random walk round: 75/80.\n",
      "\n"
     ]
    },
    {
     "name": "stderr",
     "output_type": "stream",
     "text": [
      "100%|██████████| 34/34 [00:00<00:00, 88028.60it/s]\n"
     ]
    },
    {
     "name": "stdout",
     "output_type": "stream",
     "text": [
      "\n",
      "Random walk round: 76/80.\n",
      "\n"
     ]
    },
    {
     "name": "stderr",
     "output_type": "stream",
     "text": [
      "100%|██████████| 34/34 [00:00<00:00, 81722.83it/s]\n"
     ]
    },
    {
     "name": "stdout",
     "output_type": "stream",
     "text": [
      "\n",
      "Random walk round: 77/80.\n",
      "\n"
     ]
    },
    {
     "name": "stderr",
     "output_type": "stream",
     "text": [
      "100%|██████████| 34/34 [00:00<00:00, 84935.28it/s]\n"
     ]
    },
    {
     "name": "stdout",
     "output_type": "stream",
     "text": [
      "\n",
      "Random walk round: 78/80.\n",
      "\n"
     ]
    },
    {
     "name": "stderr",
     "output_type": "stream",
     "text": [
      "100%|██████████| 34/34 [00:00<00:00, 48604.75it/s]\n"
     ]
    },
    {
     "name": "stdout",
     "output_type": "stream",
     "text": [
      "\n",
      "Random walk round: 79/80.\n",
      "\n"
     ]
    },
    {
     "name": "stderr",
     "output_type": "stream",
     "text": [
      "100%|██████████| 34/34 [00:00<00:00, 57665.32it/s]\n"
     ]
    },
    {
     "name": "stdout",
     "output_type": "stream",
     "text": [
      "\n",
      "Random walk round: 80/80.\n",
      "\n"
     ]
    },
    {
     "name": "stderr",
     "output_type": "stream",
     "text": [
      "100%|██████████| 34/34 [00:00<00:00, 69025.33it/s]"
     ]
    },
    {
     "name": "stdout",
     "output_type": "stream",
     "text": [
      "\n",
      "Optimization round: 1/5.\n",
      "Creating documents.\n",
      "Fitting model.\n",
      "\n",
      "Optimization round: 2/5.\n",
      "Creating documents.\n",
      "Fitting model.\n",
      "\n",
      "Optimization round: 3/5.\n",
      "Creating documents.\n",
      "Fitting model.\n"
     ]
    },
    {
     "name": "stderr",
     "output_type": "stream",
     "text": [
      "\n"
     ]
    },
    {
     "name": "stdout",
     "output_type": "stream",
     "text": [
      "\n",
      "Optimization round: 4/5.\n",
      "Creating documents.\n",
      "Fitting model.\n",
      "\n",
      "Optimization round: 5/5.\n",
      "Creating documents.\n",
      "Fitting model.\n",
      "\n",
      "Models are integrated to be multi scale.\n",
      "Saving to disk.\n"
     ]
    },
    {
     "data": {
      "image/png": "[encoded data removed]",
      "text/plain": [
       "<Figure size 1000x1000 with 1 Axes>"
      ]
     },
     "metadata": {},
     "output_type": "display_data"
    }
   ],
   "source": [
    "# Create a graph using the karate club dataset\n",
    "karate_club_graph = nx.karate_club_graph()\n",
    "\n",
    "# Save the graph in adjacency list format\n",
    "nx.write_adjlist(karate_club_graph, \"karate_club.adjlist\")\n",
    "\n",
    "# Define the arguments for the WalkletMachine\n",
    "args = Args(input_graph=\"karate_club.adjlist\",\n",
    "            output=\"karate_club_embedding.csv\",\n",
    "            dimensions=128,\n",
    "            window_size=5,\n",
    "            walk_type=\"first\",\n",
    "            min_count=1,\n",
    "            workers=4,\n",
    "            walk_length=10,   # Set the walk length\n",
    "            walk_number=80)   # Set the number of walks\n",
    "\n",
    "# Instantiate and run the WalkletMachine\n",
    "walklet_machine = WalkletMachine(args)\n",
    "\n",
    "# Load the embeddings from the saved CSV\n",
    "embeddings = pd.read_csv(\"karate_club_embedding.csv\")\n",
    "\n",
    "# Use PCA to reduce dimensions to 2 for visualization\n",
    "pca = PCA(n_components=2)\n",
    "reduced_embeddings = pca.fit_transform(embeddings)\n",
    "\n",
    "# Create a scatter plot\n",
    "plt.figure(figsize=(10, 10))\n",
    "plt.scatter(reduced_embeddings[:, 0], reduced_embeddings[:, 1], s=100)\n",
    "\n",
    "# Annotate points with their node IDs\n",
    "for i, txt in enumerate(karate_club_graph.nodes()):\n",
    "    plt.annotate(txt, (reduced_embeddings[i, 0], reduced_embeddings[i, 1]), fontsize=12)\n",
    "\n",
    "plt.title(\"Karate Club Graph Embeddings Visualization\")\n",
    "plt.xlabel(\"PCA Component 1\")\n",
    "plt.ylabel(\"PCA Component 2\")\n",
    "plt.show()"
   ]
  },
  {
   "cell_type": "markdown",
   "id": "8cec960d",
   "metadata": {},
   "source": [
    "# 5. Div2vec"
   ]
  },
  {
   "cell_type": "code",
   "execution_count": 20,
   "id": "b802062e",
   "metadata": {},
   "outputs": [],
   "source": [
    "class Div2Vec:\n",
    "    FIRST_TRAVEL_KEY = 'first_travel_key'\n",
    "    PROBABILITIES_KEY = 'probabilities'\n",
    "    NEIGHBORS_KEY = 'neighbors'\n",
    "    WEIGHT_KEY = 'weight' #Main difference\n",
    "    NUM_WALKS_KEY = 'num_walks'\n",
    "    WALK_LENGTH_KEY = 'walk_length'\n",
    "    P_KEY = 'p'\n",
    "    Q_KEY = 'q'\n",
    "    DIVERSITY_FACTOR_KEY = 'diversity_factor' #Main difference\n",
    "\n",
    "    # Initialize the Div2Vec object, precompute walking probabilities, and generate the walks\n",
    "    def __init__(self, graph: nx.Graph, dimensions: int = 128, walk_length: int = 80, num_walks: int = 10, p: float = 1,\n",
    "                 q: float = 1, diversity_factor: float = 1.0, weight_key: str = 'weight', workers: int = 1, \n",
    "                 sampling_strategy: dict = None, quiet: bool = False, temp_folder: str = None, seed: int = None):\n",
    "        \"\"\"\n",
    "        Initiates the Div2Vec object, precomputes walking probabilities and generates the walks.\n",
    "\n",
    "        :param graph: Input graph\n",
    "        :param dimensions: Embedding dimensions (default: 128)\n",
    "        :param walk_length: Number of nodes in each walk (default: 80)\n",
    "        :param num_walks: Number of walks per node (default: 10)\n",
    "        :param p: Return hyper parameter (default: 1)\n",
    "        :param q: Inout parameter (default: 1)\n",
    "        :param diversity_factor: Factor to penalize revisits within the same walk (default: 1.0)\n",
    "        :param weight_key: On weighted graphs, this is the key for the weight attribute (default: 'weight')\n",
    "        :param workers: Number of workers for parallel execution (default: 1)\n",
    "        :param sampling_strategy: Node specific sampling strategies, supports setting node specific 'q', 'p', 'num_walks' and 'walk_length'.\n",
    "        :param seed: Seed for the random number generator.\n",
    "        :param temp_folder: Path to folder with enough space to hold the memory map of self.d_graph (for big graphs); to be passed joblib.Parallel.temp_folder\n",
    "        \"\"\"\n",
    "\n",
    "        self.graph = graph\n",
    "        self.dimensions = dimensions\n",
    "        self.walk_length = walk_length\n",
    "        self.num_walks = num_walks\n",
    "        self.p = p\n",
    "        self.q = q\n",
    "        self.diversity_factor = diversity_factor\n",
    "        self.weight_key = weight_key\n",
    "        self.workers = workers\n",
    "        self.quiet = quiet\n",
    "        self.d_graph = defaultdict(dict)\n",
    "\n",
    "        if sampling_strategy is None:\n",
    "            self.sampling_strategy = {}\n",
    "        else:\n",
    "            self.sampling_strategy = sampling_strategy\n",
    "\n",
    "        self.temp_folder, self.require = None, None\n",
    "        if temp_folder:\n",
    "            if not os.path.isdir(temp_folder):\n",
    "                raise NotADirectoryError(\"temp_folder does not exist or is not a directory. ({})\".format(temp_folder))\n",
    "\n",
    "            self.temp_folder = temp_folder\n",
    "            self.require = \"sharedmem\"\n",
    "\n",
    "        if seed is not None:\n",
    "            random.seed(seed)\n",
    "            np.random.seed(seed)\n",
    "\n",
    "        self._precompute_probabilities()\n",
    "        self.walks = self._generate_walks()\n",
    "\n",
    "    # Precompute transition probabilities for each node in the graph. Calculate unnormalized weights for each destination node and normalize them\n",
    "    def _precompute_probabilities(self):\n",
    "        \"\"\"\n",
    "        Precomputes transition probabilities for each node.\n",
    "        \"\"\"\n",
    "\n",
    "        d_graph = self.d_graph\n",
    "\n",
    "        nodes_generator = self.graph.nodes() if self.quiet \\\n",
    "            else tqdm(self.graph.nodes(), desc='Computing transition probabilities')\n",
    "\n",
    "        for source in nodes_generator:\n",
    "\n",
    "            # Init probabilities dict for first travel\n",
    "            if self.PROBABILITIES_KEY not in d_graph[source]:\n",
    "                d_graph[source][self.PROBABILITIES_KEY] = dict()\n",
    "\n",
    "            for current_node in self.graph.neighbors(source):\n",
    "\n",
    "                # Init probabilities dict\n",
    "                if self.PROBABILITIES_KEY not in d_graph[current_node]:\n",
    "                    d_graph[current_node][self.PROBABILITIES_KEY] = dict()\n",
    "\n",
    "                unnormalized_weights = list()\n",
    "                d_neighbors = list()\n",
    "\n",
    "                # Calculate unnormalized weights\n",
    "                for destination in self.graph.neighbors(current_node):\n",
    "\n",
    "                    p = self.sampling_strategy[current_node].get(self.P_KEY,\n",
    "                                                                 self.p) if current_node in self.sampling_strategy else self.p\n",
    "                    q = self.sampling_strategy[current_node].get(self.Q_KEY,\n",
    "                                                                 self.q) if current_node in self.sampling_strategy else self.q\n",
    "\n",
    "                    try:\n",
    "                        if self.graph[current_node][destination].get(self.weight_key):\n",
    "                            weight = self.graph[current_node][destination].get(self.weight_key, 1)\n",
    "                        else: \n",
    "                            # Handle different graph data structures with edge weights\n",
    "                            edge = list(self.graph[current_node][destination])[-1]\n",
    "                            weight = self.graph[current_node][destination][edge].get(self.weight_key, 1)\n",
    "                    except:\n",
    "                        weight = 1\n",
    "                    \n",
    "                    # Calculate the degree of the destination node\n",
    "                    degree = self.graph.degree(destination)\n",
    "                    \n",
    "                    # Use the degree-based function for the weight\n",
    "                    ss_weight = 1 / degree\n",
    "\n",
    "                    unnormalized_weights.append(ss_weight)\n",
    "                    d_neighbors.append(destination)\n",
    "\n",
    "                # Probability choose next node\n",
    "                unnormalized_weights = np.array(unnormalized_weights)\n",
    "                d_graph[current_node][self.PROBABILITIES_KEY][\n",
    "                    source] = unnormalized_weights / unnormalized_weights.sum()\n",
    "\n",
    "\n",
    "            # Calculate first_travel weights for source\n",
    "            first_travel_weights = []\n",
    "\n",
    "            for destination in self.graph.neighbors(source):\n",
    "                first_travel_weights.append(self.graph[source][destination].get(self.weight_key, 1))\n",
    "\n",
    "            first_travel_weights = np.array(first_travel_weights)\n",
    "            d_graph[source][self.FIRST_TRAVEL_KEY] = first_travel_weights / first_travel_weights.sum()\n",
    "\n",
    "            # Save neighbors\n",
    "            d_graph[source][self.NEIGHBORS_KEY] = list(self.graph.neighbors(source))\n",
    "\n",
    "    def _generate_walks(self) -> list:\n",
    "        \"\"\"\n",
    "        Generates the random walks which will be used as the skip-gram input.\n",
    "        :return: List of walks. Each walk is a list of nodes.\n",
    "        \"\"\"\n",
    "\n",
    "        flatten = lambda l: [item for sublist in l for item in sublist]\n",
    "\n",
    "        # Split num_walks for each worker\n",
    "        num_walks_lists = np.array_split(range(self.num_walks), self.workers)\n",
    "\n",
    "        walk_results = Parallel(n_jobs=self.workers, temp_folder=self.temp_folder, require=self.require)(\n",
    "            delayed(self._parallel_generate_walks)(self.d_graph,\n",
    "                                                   self.walk_length,\n",
    "                                                   len(num_walks),\n",
    "                                                   idx,\n",
    "                                                   self.sampling_strategy,\n",
    "                                                   self.NUM_WALKS_KEY,\n",
    "                                                   self.WALK_LENGTH_KEY,\n",
    "                                                   self.NEIGHBORS_KEY,\n",
    "                                                   self.PROBABILITIES_KEY,\n",
    "                                                   self.FIRST_TRAVEL_KEY,\n",
    "                                                   self.diversity_factor,\n",
    "                                                   self.quiet) for\n",
    "            idx, num_walks\n",
    "            in enumerate(num_walks_lists, 1))\n",
    "\n",
    "        walks = flatten(walk_results)\n",
    "\n",
    "        return walks\n",
    "\n",
    "    def _parallel_generate_walks(self, d_graph, walk_length, num_walks, idx, sampling_strategy, \n",
    "                                 NUM_WALKS_KEY, WALK_LENGTH_KEY, NEIGHBORS_KEY, PROBABILITIES_KEY, \n",
    "                                 FIRST_TRAVEL_KEY, diversity_factor, quiet):\n",
    "        \"\"\"\n",
    "        Helper function to generate walks in parallel.\n",
    "        \"\"\"\n",
    "        walks = []\n",
    "        for _ in tqdm(range(num_walks), desc=f'Generating walks (worker {idx})', disable=quiet):\n",
    "            for node in d_graph:\n",
    "                walk = [node]\n",
    "                while len(walk) < walk_length:\n",
    "                    cur = walk[-1]\n",
    "                    cur_nbrs = d_graph[cur][NEIGHBORS_KEY]\n",
    "                    if len(walk) == 1:\n",
    "                        next_node = np.random.choice(cur_nbrs, p=d_graph[cur][FIRST_TRAVEL_KEY])\n",
    "                    else:\n",
    "                        prev = walk[-2]\n",
    "                        probabilities = d_graph[cur][PROBABILITIES_KEY][prev]\n",
    "                        if diversity_factor < 1.0:\n",
    "                            # Penalize already visited nodes to promote diversity\n",
    "                            probabilities = self._apply_diversity_penalty(probabilities, cur_nbrs, walk, diversity_factor)\n",
    "                        next_node = np.random.choice(cur_nbrs, p=probabilities)\n",
    "                    walk.append(next_node)\n",
    "                walks.append(walk)\n",
    "        return walks\n",
    "\n",
    "    def _apply_diversity_penalty(self, probabilities, neighbors, walk, diversity_factor):\n",
    "        \"\"\"\n",
    "        Applies a penalty to the probabilities of nodes that have already been visited in the current walk.\n",
    "        \"\"\"\n",
    "        visit_counts = defaultdict(int)\n",
    "        for node in walk:\n",
    "            visit_counts[node] += 1\n",
    "\n",
    "        penalized_probabilities = np.array(probabilities)\n",
    "        for i, neighbor in enumerate(neighbors):\n",
    "            if visit_counts[neighbor] > 0:\n",
    "                penalized_probabilities[i] *= (diversity_factor ** visit_counts[neighbor])\n",
    "\n",
    "        penalized_probabilities /= penalized_probabilities.sum()\n",
    "        return penalized_probabilities\n",
    "\n",
    "    def fit(self, **skip_gram_params) -> gensim.models.Word2Vec:\n",
    "        \"\"\"\n",
    "        Creates the embeddings using gensim's Word2Vec.\n",
    "        :param skip_gram_params: Parameters for gensim.models.Word2Vec - do not supply 'size' / 'vector_size' it is\n",
    "            taken from the Div2Vec 'dimensions' parameter\n",
    "        :type skip_gram_params: dict\n",
    "        :return: A gensim word2vec model\n",
    "        \"\"\"\n",
    "\n",
    "        if 'workers' not in skip_gram_params:\n",
    "            skip_gram_params['workers'] = self.workers\n",
    "\n",
    "        # Figure out gensim version, naming of output dimensions changed from size to vector_size in v4.0.0\n",
    "        size = 'size' if gensim.__version__ < '4.0.0' else 'vector_size'\n",
    "        if size not in skip_gram_params:\n",
    "            skip_gram_params[size] = self.dimensions\n",
    "\n",
    "        if 'seed' not in skip_gram_params and hasattr(self, 'seed'):\n",
    "            skip_gram_params['seed'] = self.seed\n",
    "\n",
    "        model = gensim.models.Word2Vec(sentences=self.walks, **skip_gram_params)\n",
    "        return model"
   ]
  },
  {
   "cell_type": "markdown",
   "id": "fee3fd53",
   "metadata": {},
   "source": [
    "## 5.1. Generating random walk and run Div2Vec to generate embeddings \n"
   ]
  },
  {
   "cell_type": "code",
   "execution_count": 21,
   "id": "523af703",
   "metadata": {},
   "outputs": [
    {
     "name": "stderr",
     "output_type": "stream",
     "text": [
      "Computing transition probabilities: 100%|██████████| 34/34 [00:00<00:00, 11822.78it/s]\n",
      "Generating walks (worker 1): 100%|██████████| 50/50 [00:00<00:00, 117.47it/s]\n",
      "Generating walks (worker 4): 100%|██████████| 50/50 [00:00<00:00, 118.58it/s]\n",
      "Generating walks (worker 2): 100%|██████████| 50/50 [00:00<00:00, 113.04it/s]\n",
      "Generating walks (worker 3): 100%|██████████| 50/50 [00:00<00:00, 111.26it/s]\n"
     ]
    }
   ],
   "source": [
    "div2vec = Div2Vec(G, dimensions=64, walk_length=30, num_walks=200, workers=4, diversity_factor=0.5)\n",
    "\n",
    "# Fit the model to the data\n",
    "model = div2vec.fit(window=10, min_count=1, batch_words=4)\n",
    "\n",
    "# Get the embedding of each node\n",
    "node_embeddings = model.wv.vectors\n"
   ]
  },
  {
   "cell_type": "markdown",
   "id": "cc70af1a",
   "metadata": {},
   "source": [
    "## 5.2. Visualize embeddings "
   ]
  },
  {
   "cell_type": "code",
   "execution_count": 22,
   "id": "dc81030a",
   "metadata": {},
   "outputs": [
    {
     "data": {
      "image/png": "[encoded data removed]",
      "text/plain": [
       "<Figure size 1000x800 with 1 Axes>"
      ]
     },
     "metadata": {},
     "output_type": "display_data"
    }
   ],
   "source": [
    "# Use t-SNE to reduce the dimensionality of the embeddings to 2D\n",
    "tsne = TSNE(n_components=2)\n",
    "node_embeddings_2d = tsne.fit_transform(node_embeddings)\n",
    "\n",
    "# Visualize the embeddings\n",
    "plt.figure(figsize=(10, 8))\n",
    "plt.scatter(node_embeddings_2d[:, 0], node_embeddings_2d[:, 1])\n",
    "plt.show()"
   ]
  }
 ],
 "metadata": {
  "kernelspec": {
   "display_name": "GM_2",
   "language": "python",
   "name": "python3"
  },
  "language_info": {
   "codemirror_mode": {
    "name": "ipython",
    "version": 3
   },
   "file_extension": ".py",
   "mimetype": "text/x-python",
   "name": "python",
   "nbconvert_exporter": "python",
   "pygments_lexer": "ipython3",
   "version": "3.9.21"
  }
 },
 "nbformat": 4,
 "nbformat_minor": 5
}
