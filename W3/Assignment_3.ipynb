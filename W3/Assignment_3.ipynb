{
 "cells": [
  {
   "cell_type": "markdown",
   "id": "30864265",
   "metadata": {},
   "source": [
    "# Centrality Measures\n",
    "## 1. Write code to compute the following six centrality metrics for a graph using Networkx:\n",
    "\n",
    "Reading the dataset located in: /data/karate_edgelist.txt.\n",
    "Each row denotes the edge between two nodes.\n",
    "Caculate centrality meassures:\n",
    "\n",
    "1. Degree centrality\n",
    "2. Betweenness centrality\n",
    "3. Closeness centrality \n",
    "4. Eigenvector centrality\n",
    "5. Katz centrality\n",
    "6. PageRank\n",
    "\n",
    "\n"
   ]
  },
  {
   "cell_type": "markdown",
   "id": "9b8de435",
   "metadata": {},
   "source": [
    "## 2.  Construct a graph from adjacency matrix in the adj_matrix.csv\n",
    "\n",
    "Reading the dataset located in: /data/adj_matrix.csv.\n",
    "The file denotes a adjacency matrix of a graph.\n",
    "Caculate centrality meassures:\n",
    "\n",
    "1. Degree centrality\n",
    "2. Betweenness centrality\n",
    "3. Closeness centrality \n",
    "4. Eigenvector centrality\n",
    "5. Katz centrality\n",
    "6. PageRank"
   ]
  }
 ],
 "metadata": {
  "kernelspec": {
   "display_name": "Python 3 (ipykernel)",
   "language": "python",
   "name": "python3"
  },
  "language_info": {
   "codemirror_mode": {
    "name": "ipython",
    "version": 3
   },
   "file_extension": ".py",
   "mimetype": "text/x-python",
   "name": "python",
   "nbconvert_exporter": "python",
   "pygments_lexer": "ipython3",
   "version": "3.10.12"
  }
 },
 "nbformat": 4,
 "nbformat_minor": 5
}
