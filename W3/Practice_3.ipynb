{
 "cells": [
  {
   "cell_type": "markdown",
   "id": "a60d80eb",
   "metadata": {},
   "source": [
    "# Centrality Measures\n",
    "## 1/ Calculate centrality measures in weighted graphs\n",
    "\n",
    "- Construct a directed weighted graph G from Edges.csv and Nodes.csv\n",
    "\n",
    "- Calculating centrality measures (Degree, Betweenness, Closeness, Katz, Eigenvector, Pagerank)\n"
   ]
  },
  {
   "cell_type": "code",
   "execution_count": 61,
   "id": "e578d55b",
   "metadata": {},
   "outputs": [],
   "source": [
    "# Import libraries\n",
    "import pandas as pd \n",
    "import networkx as nx \n",
    "import matplotlib.pyplot as plt \n",
    "%matplotlib inline"
   ]
  },
  {
   "cell_type": "markdown",
   "id": "6b8dfe53",
   "metadata": {},
   "source": [
    "### 1.1/ Load Datasets\n"
   ]
  },
  {
   "cell_type": "code",
   "execution_count": 62,
   "id": "3d72d739",
   "metadata": {},
   "outputs": [],
   "source": [
    "#Read nodes and edges datasets\n",
    "nodes = pd.read_csv('./data/Nodes.csv')\n",
    "edges = pd.read_csv('./data/Edges.csv')"
   ]
  },
  {
   "cell_type": "markdown",
   "id": "69f06ea3",
   "metadata": {},
   "source": [
    "### 1.2/ Check nodes"
   ]
  },
  {
   "cell_type": "code",
   "execution_count": 63,
   "id": "965cc92d",
   "metadata": {},
   "outputs": [
    {
     "data": {
      "text/html": [
       "<div>\n",
       "<style scoped>\n",
       "    .dataframe tbody tr th:only-of-type {\n",
       "        vertical-align: middle;\n",
       "    }\n",
       "\n",
       "    .dataframe tbody tr th {\n",
       "        vertical-align: top;\n",
       "    }\n",
       "\n",
       "    .dataframe thead th {\n",
       "        text-align: right;\n",
       "    }\n",
       "</style>\n",
       "<table border=\"1\" class=\"dataframe\">\n",
       "  <thead>\n",
       "    <tr style=\"text-align: right;\">\n",
       "      <th></th>\n",
       "      <th>id</th>\n",
       "    </tr>\n",
       "  </thead>\n",
       "  <tbody>\n",
       "    <tr>\n",
       "      <th>0</th>\n",
       "      <td>1</td>\n",
       "    </tr>\n",
       "    <tr>\n",
       "      <th>1</th>\n",
       "      <td>2</td>\n",
       "    </tr>\n",
       "    <tr>\n",
       "      <th>2</th>\n",
       "      <td>3</td>\n",
       "    </tr>\n",
       "    <tr>\n",
       "      <th>3</th>\n",
       "      <td>4</td>\n",
       "    </tr>\n",
       "    <tr>\n",
       "      <th>4</th>\n",
       "      <td>5</td>\n",
       "    </tr>\n",
       "  </tbody>\n",
       "</table>\n",
       "</div>"
      ],
      "text/plain": [
       "   id\n",
       "0   1\n",
       "1   2\n",
       "2   3\n",
       "3   4\n",
       "4   5"
      ]
     },
     "execution_count": 63,
     "metadata": {},
     "output_type": "execute_result"
    }
   ],
   "source": [
    "nodes.head(5)"
   ]
  },
  {
   "cell_type": "markdown",
   "id": "83342e5d",
   "metadata": {},
   "source": [
    "### 1.3/ Check edges"
   ]
  },
  {
   "cell_type": "code",
   "execution_count": 64,
   "id": "951e23df",
   "metadata": {},
   "outputs": [
    {
     "data": {
      "text/plain": [
       "(51, 3)"
      ]
     },
     "execution_count": 64,
     "metadata": {},
     "output_type": "execute_result"
    }
   ],
   "source": [
    "edges.head()\n",
    "edges.shape"
   ]
  },
  {
   "cell_type": "code",
   "execution_count": 65,
   "id": "524c8177",
   "metadata": {},
   "outputs": [
    {
     "data": {
      "text/html": [
       "<div>\n",
       "<style scoped>\n",
       "    .dataframe tbody tr th:only-of-type {\n",
       "        vertical-align: middle;\n",
       "    }\n",
       "\n",
       "    .dataframe tbody tr th {\n",
       "        vertical-align: top;\n",
       "    }\n",
       "\n",
       "    .dataframe thead th {\n",
       "        text-align: right;\n",
       "    }\n",
       "</style>\n",
       "<table border=\"1\" class=\"dataframe\">\n",
       "  <thead>\n",
       "    <tr style=\"text-align: right;\">\n",
       "      <th></th>\n",
       "      <th>from</th>\n",
       "      <th>to</th>\n",
       "      <th>weight</th>\n",
       "    </tr>\n",
       "  </thead>\n",
       "  <tbody>\n",
       "    <tr>\n",
       "      <th>0</th>\n",
       "      <td>1</td>\n",
       "      <td>2</td>\n",
       "      <td>22</td>\n",
       "    </tr>\n",
       "    <tr>\n",
       "      <th>1</th>\n",
       "      <td>1</td>\n",
       "      <td>3</td>\n",
       "      <td>22</td>\n",
       "    </tr>\n",
       "    <tr>\n",
       "      <th>2</th>\n",
       "      <td>1</td>\n",
       "      <td>4</td>\n",
       "      <td>21</td>\n",
       "    </tr>\n",
       "    <tr>\n",
       "      <th>3</th>\n",
       "      <td>1</td>\n",
       "      <td>15</td>\n",
       "      <td>20</td>\n",
       "    </tr>\n",
       "    <tr>\n",
       "      <th>4</th>\n",
       "      <td>2</td>\n",
       "      <td>1</td>\n",
       "      <td>23</td>\n",
       "    </tr>\n",
       "  </tbody>\n",
       "</table>\n",
       "</div>"
      ],
      "text/plain": [
       "   from  to  weight\n",
       "0     1   2      22\n",
       "1     1   3      22\n",
       "2     1   4      21\n",
       "3     1  15      20\n",
       "4     2   1      23"
      ]
     },
     "execution_count": 65,
     "metadata": {},
     "output_type": "execute_result"
    }
   ],
   "source": [
    "#Collapse all edges of the same type between the same two nodes by summing their weights\n",
    "edges = edges.groupby(['from', 'to'])['weight'].sum().reset_index()\n",
    "edges.head(5)"
   ]
  },
  {
   "cell_type": "markdown",
   "id": "5840bee8",
   "metadata": {},
   "source": [
    "### 1.4/ Create directed graph using edgelist\n"
   ]
  },
  {
   "cell_type": "code",
   "execution_count": 66,
   "id": "3197b05f",
   "metadata": {},
   "outputs": [],
   "source": [
    "G = nx.from_pandas_edgelist(edges, source='from', target='to',edge_attr=True, create_using=nx.Graph())"
   ]
  },
  {
   "cell_type": "code",
   "execution_count": 67,
   "id": "5fd3cd9e",
   "metadata": {},
   "outputs": [
    {
     "data": {
      "image/png": "[encoded data removed]",
      "text/plain": [
       "<Figure size 640x480 with 1 Axes>"
      ]
     },
     "metadata": {},
     "output_type": "display_data"
    }
   ],
   "source": [
    "nx.draw(G,with_labels=True)\n",
    "#nx.draw(G)"
   ]
  },
  {
   "cell_type": "code",
   "execution_count": 68,
   "id": "3677e3c4",
   "metadata": {},
   "outputs": [
    {
     "data": {
      "text/plain": [
       "EdgeDataView([(1, 2, {'weight': 23}), (1, 3, {'weight': 21}), (1, 4, {'weight': 21}), (1, 15, {'weight': 22}), (1, 5, {'weight': 1}), (2, 3, {'weight': 21}), (2, 9, {'weight': 1}), (2, 10, {'weight': 5}), (2, 5, {'weight': 21}), (3, 4, {'weight': 23}), (3, 5, {'weight': 1}), (3, 8, {'weight': 2}), (3, 10, {'weight': 2}), (3, 11, {'weight': 1}), (3, 12, {'weight': 1}), (3, 7, {'weight': 1}), (4, 6, {'weight': 1}), (4, 11, {'weight': 22}), (4, 12, {'weight': 3}), (4, 17, {'weight': 4}), (4, 15, {'weight': 1}), (15, 5, {'weight': 21}), (15, 6, {'weight': 4}), (9, 5, {'weight': 2}), (9, 8, {'weight': 23}), (9, 10, {'weight': 21}), (10, 7, {'weight': 21}), (8, 7, {'weight': 21}), (11, 14, {'weight': 1}), (12, 6, {'weight': 2}), (12, 13, {'weight': 21}), (12, 14, {'weight': 22}), (6, 16, {'weight': 23}), (6, 17, {'weight': 21}), (17, 13, {'weight': 1}), (17, 16, {'weight': 21}), (7, 14, {'weight': 4}), (14, 13, {'weight': 21})])"
      ]
     },
     "execution_count": 68,
     "metadata": {},
     "output_type": "execute_result"
    }
   ],
   "source": [
    "#Check edge data\n",
    "G.edges.data()"
   ]
  },
  {
   "cell_type": "code",
   "execution_count": 69,
   "id": "27036519",
   "metadata": {},
   "outputs": [
    {
     "data": {
      "image/png": "[encoded data removed]",
      "text/plain": [
       "<Figure size 900x900 with 1 Axes>"
      ]
     },
     "metadata": {},
     "output_type": "display_data"
    }
   ],
   "source": [
    "plt.figure(figsize=(9,9))\n",
    "nx.draw_networkx(G)\n",
    "plt.show()"
   ]
  },
  {
   "cell_type": "markdown",
   "id": "ee5cc3f6",
   "metadata": {},
   "source": [
    "## 2/ Network Centrality Measures\n",
    "### 2.1/ Degree centrality"
   ]
  },
  {
   "cell_type": "code",
   "execution_count": 70,
   "id": "8636eabf",
   "metadata": {},
   "outputs": [
    {
     "data": {
      "text/plain": [
       "(array([1., 3., 6., 0., 5., 0., 0., 1., 0., 1.]),\n",
       " array([2. , 2.7, 3.4, 4.1, 4.8, 5.5, 6.2, 6.9, 7.6, 8.3, 9. ]),\n",
       " <BarContainer object of 10 artists>)"
      ]
     },
     "execution_count": 70,
     "metadata": {},
     "output_type": "execute_result"
    },
    {
     "data": {
      "image/png": "[encoded data removed]",
      "text/plain": [
       "<Figure size 640x480 with 1 Axes>"
      ]
     },
     "metadata": {},
     "output_type": "display_data"
    }
   ],
   "source": [
    "#Degree plot for undirected and weighted graph\n",
    "degrees = [G.degree(n) for n in G.nodes()]\n",
    "\n",
    "#degrees = [G.degree(n, weight='weight') for n in G.nodes()]\n",
    "plt.hist(degrees)"
   ]
  },
  {
   "cell_type": "code",
   "execution_count": 71,
   "id": "cfb9b92c",
   "metadata": {},
   "outputs": [
    {
     "data": {
      "image/png": "[encoded data removed]",
      "text/plain": [
       "<Figure size 640x480 with 1 Axes>"
      ]
     },
     "metadata": {},
     "output_type": "display_data"
    }
   ],
   "source": [
    "degree_sequence = sorted([d for n, d in G.degree(weight='weight')], reverse=True)\n",
    "plt.loglog(degree_sequence,marker='*')\n",
    "plt.show()"
   ]
  },
  {
   "cell_type": "code",
   "execution_count": 72,
   "id": "f965346f",
   "metadata": {},
   "outputs": [
    {
     "data": {
      "text/plain": [
       "[1.0,\n",
       " 0.8068181818181818,\n",
       " 0.8295454545454546,\n",
       " 0.8522727272727273,\n",
       " 0.5454545454545454,\n",
       " 0.5340909090909091,\n",
       " 0.5568181818181818,\n",
       " 0.5227272727272727,\n",
       " 0.5227272727272727,\n",
       " 0.2727272727272727,\n",
       " 0.5568181818181818,\n",
       " 0.5795454545454546,\n",
       " 0.5340909090909091,\n",
       " 0.5,\n",
       " 0.5340909090909091,\n",
       " 0.5454545454545454,\n",
       " 0.48863636363636365]"
      ]
     },
     "execution_count": 72,
     "metadata": {},
     "output_type": "execute_result"
    }
   ],
   "source": [
    "#Degree centrality for weighted graph\n",
    "degree = G.degree(weight='weight')\n",
    "max_degree = max(dict(degree).values())\n",
    "\n",
    "degree_centrality_weighted = [deg/max_degree for deg in dict(degree).values()]\n",
    "\n",
    "degree_centrality_weighted"
   ]
  },
  {
   "cell_type": "code",
   "execution_count": 73,
   "id": "8281038b",
   "metadata": {},
   "outputs": [
    {
     "data": {
      "text/plain": [
       "{1: 0.3125,\n",
       " 2: 0.3125,\n",
       " 3: 0.5625,\n",
       " 4: 0.4375,\n",
       " 15: 0.25,\n",
       " 9: 0.25,\n",
       " 10: 0.25,\n",
       " 5: 0.3125,\n",
       " 8: 0.1875,\n",
       " 11: 0.1875,\n",
       " 12: 0.3125,\n",
       " 6: 0.3125,\n",
       " 17: 0.25,\n",
       " 16: 0.125,\n",
       " 7: 0.25,\n",
       " 14: 0.25,\n",
       " 13: 0.1875}"
      ]
     },
     "execution_count": 73,
     "metadata": {},
     "output_type": "execute_result"
    }
   ],
   "source": [
    "nx.degree_centrality(G)"
   ]
  },
  {
   "cell_type": "markdown",
   "id": "b923a53a",
   "metadata": {},
   "source": [
    "### 2.2/ Betweenness centrality"
   ]
  },
  {
   "cell_type": "code",
   "execution_count": 132,
   "id": "6e42b3a1",
   "metadata": {},
   "outputs": [
    {
     "data": {
      "text/plain": [
       "{1: 0.0,\n",
       " 2: 0.0,\n",
       " 3: 0.7583333333333333,\n",
       " 4: 0.325,\n",
       " 15: 0.0,\n",
       " 9: 0.11666666666666667,\n",
       " 10: 0.0,\n",
       " 5: 0.3333333333333333,\n",
       " 8: 0.0,\n",
       " 11: 0.125,\n",
       " 12: 0.5,\n",
       " 6: 0.2916666666666667,\n",
       " 17: 0.125,\n",
       " 16: 0.0,\n",
       " 7: 0.0,\n",
       " 14: 0.0,\n",
       " 13: 0.0}"
      ]
     },
     "execution_count": 132,
     "metadata": {},
     "output_type": "execute_result"
    }
   ],
   "source": [
    "nx.betweenness_centrality(G, weight='weight')"
   ]
  },
  {
   "cell_type": "code",
   "execution_count": 133,
   "id": "6a1e18ee",
   "metadata": {},
   "outputs": [
    {
     "name": "stdout",
     "output_type": "stream",
     "text": [
      "3 0.7583333333333333\n",
      "12 0.5\n",
      "5 0.3333333333333333\n",
      "4 0.325\n",
      "6 0.2916666666666667\n",
      "11 0.125\n",
      "17 0.125\n",
      "9 0.11666666666666667\n",
      "1 0.0\n",
      "2 0.0\n",
      "15 0.0\n",
      "10 0.0\n",
      "8 0.0\n",
      "16 0.0\n",
      "7 0.0\n",
      "14 0.0\n",
      "13 0.0\n"
     ]
    }
   ],
   "source": [
    "#Sort for identifying most inflential nodes using betweenness centrality\n",
    "betweenness_centrality_weighted = nx.betweenness_centrality(G, weight='weight')\n",
    "\n",
    "for node in sorted(betweenness_centrality_weighted, key=betweenness_centrality_weighted.get, reverse=True):\n",
    "  print(node, betweenness_centrality_weighted[node])"
   ]
  },
  {
   "cell_type": "markdown",
   "id": "369d04a1",
   "metadata": {},
   "source": [
    "### 2.3/ Closeness centrality"
   ]
  },
  {
   "cell_type": "code",
   "execution_count": 74,
   "id": "e2e0ea8b",
   "metadata": {},
   "outputs": [
    {
     "data": {
      "text/plain": [
       "{1: 0.5333333333333333,\n",
       " 2: 0.48484848484848486,\n",
       " 3: 0.6666666666666666,\n",
       " 4: 0.6153846153846154,\n",
       " 15: 0.48484848484848486,\n",
       " 9: 0.41025641025641024,\n",
       " 10: 0.47058823529411764,\n",
       " 5: 0.5161290322580645,\n",
       " 8: 0.45714285714285713,\n",
       " 11: 0.5161290322580645,\n",
       " 12: 0.5714285714285714,\n",
       " 6: 0.5,\n",
       " 17: 0.45714285714285713,\n",
       " 16: 0.35555555555555557,\n",
       " 7: 0.48484848484848486,\n",
       " 14: 0.47058823529411764,\n",
       " 13: 0.43243243243243246}"
      ]
     },
     "execution_count": 74,
     "metadata": {},
     "output_type": "execute_result"
    }
   ],
   "source": [
    "nx.closeness_centrality(G)"
   ]
  },
  {
   "cell_type": "code",
   "execution_count": 75,
   "id": "f0e7c9ab",
   "metadata": {},
   "outputs": [
    {
     "data": {
      "text/plain": [
       "{1: 0.16326530612244897,\n",
       " 2: 0.13008130081300814,\n",
       " 3: 0.21621621621621623,\n",
       " 4: 0.16666666666666666,\n",
       " 15: 0.14414414414414414,\n",
       " 9: 0.14678899082568808,\n",
       " 10: 0.1553398058252427,\n",
       " 5: 0.1927710843373494,\n",
       " 8: 0.15384615384615385,\n",
       " 11: 0.1839080459770115,\n",
       " 12: 0.2077922077922078,\n",
       " 6: 0.1839080459770115,\n",
       " 17: 0.11347517730496454,\n",
       " 16: 0.03827751196172249,\n",
       " 7: 0.1797752808988764,\n",
       " 14: 0.1568627450980392,\n",
       " 13: 0.10256410256410256}"
      ]
     },
     "execution_count": 75,
     "metadata": {},
     "output_type": "execute_result"
    }
   ],
   "source": [
    "nx.closeness_centrality(G, distance='weight')"
   ]
  },
  {
   "cell_type": "markdown",
   "id": "22c829c5",
   "metadata": {},
   "source": [
    "### 2.4/ Eigenvector Centrality"
   ]
  },
  {
   "cell_type": "code",
   "execution_count": 78,
   "id": "fc5d86a1",
   "metadata": {},
   "outputs": [
    {
     "data": {
      "text/plain": [
       "{1: 0.5243879751840346,\n",
       " 2: 0.4234266643002833,\n",
       " 3: 0.4609728287014517,\n",
       " 4: 0.3941573797305682,\n",
       " 15: 0.26726633574782693,\n",
       " 9: 0.06061597013618106,\n",
       " 10: 0.08439577732499759,\n",
       " 5: 0.242065790354225,\n",
       " 8: 0.05344744462526894,\n",
       " 11: 0.14206001915974797,\n",
       " 12: 0.04535228494306331,\n",
       " 6: 0.05556814065819854,\n",
       " 17: 0.0552431826941605,\n",
       " 16: 0.03780719548725359,\n",
       " 7: 0.05384481797483081,\n",
       " 14: 0.029198742490167552,\n",
       " 13: 0.025133401245443665}"
      ]
     },
     "execution_count": 78,
     "metadata": {},
     "output_type": "execute_result"
    }
   ],
   "source": [
    "nx.eigenvector_centrality(G, weight='weight',max_iter = 600)"
   ]
  },
  {
   "cell_type": "markdown",
   "id": "90d21ae0",
   "metadata": {},
   "source": [
    "### 2.5/ Katz Centrality"
   ]
  },
  {
   "cell_type": "code",
   "execution_count": 134,
   "id": "25bacc64",
   "metadata": {},
   "outputs": [
    {
     "data": {
      "text/plain": [
       "{1: 0.26618993626002696,\n",
       " 2: 0.25852148990193397,\n",
       " 3: 0.34789011195803876,\n",
       " 4: 0.30380429431829625,\n",
       " 15: 0.23327053802129114,\n",
       " 9: 0.22137718593506467,\n",
       " 10: 0.23134469376305405,\n",
       " 5: 0.25869656644292643,\n",
       " 8: 0.20549255350345041,\n",
       " 11: 0.21263834616088179,\n",
       " 12: 0.2565554334351372,\n",
       " 6: 0.24429808778427545,\n",
       " 17: 0.21748417879464044,\n",
       " 16: 0.17214990077487388,\n",
       " 7: 0.22594164043918732,\n",
       " 14: 0.21497249250773137,\n",
       " 13: 0.19487287897431288}"
      ]
     },
     "execution_count": 134,
     "metadata": {},
     "output_type": "execute_result"
    }
   ],
   "source": [
    "nx.katz_centrality(G)"
   ]
  },
  {
   "cell_type": "markdown",
   "id": "e4cfc9a3",
   "metadata": {},
   "source": [
    "### 2.6/ PageRank Centrality"
   ]
  },
  {
   "cell_type": "code",
   "execution_count": 79,
   "id": "bc7eb5f4",
   "metadata": {
    "scrolled": true
   },
   "outputs": [
    {
     "data": {
      "text/plain": [
       "{1: 0.08510275171090052,\n",
       " 2: 0.07036723548249191,\n",
       " 3: 0.07210878220106506,\n",
       " 4: 0.07793068159840727,\n",
       " 15: 0.05086993441701706,\n",
       " 9: 0.055565198429846537,\n",
       " 10: 0.05703894111148803,\n",
       " 5: 0.04910224124242256,\n",
       " 8: 0.05483671362647849,\n",
       " 11: 0.030132480983098633,\n",
       " 12: 0.05929092165421931,\n",
       " 6: 0.06038211879945627,\n",
       " 17: 0.05616702153345073,\n",
       " 16: 0.05330205121583224,\n",
       " 7: 0.0558770073826599,\n",
       " 14: 0.05866910324143484,\n",
       " 13: 0.05325681536973059}"
      ]
     },
     "execution_count": 79,
     "metadata": {},
     "output_type": "execute_result"
    }
   ],
   "source": [
    "nx.pagerank(G, weight='weight')"
   ]
  },
  {
   "cell_type": "markdown",
   "id": "b7bcd35e",
   "metadata": {},
   "source": [
    "## 3/  Implement manually centralities in python and comparing with the NetworkX formulars\n",
    "\n",
    "Input: an adjacency matrix.\n",
    "\n",
    "Output: \n",
    "\n",
    "1. Return a list or vector of centrality values\n",
    "\n",
    "2. Comparing the manual results with NetworkX"
   ]
  },
  {
   "cell_type": "markdown",
   "id": "61d61f6e",
   "metadata": {},
   "source": [
    "### 3.1/ Creating a Graph:"
   ]
  },
  {
   "cell_type": "code",
   "execution_count": 81,
   "id": "012225e4",
   "metadata": {},
   "outputs": [
    {
     "name": "stdout",
     "output_type": "stream",
     "text": [
      "Size Graph:  9 :\n",
      "[[0 1 1 1 0 0 0 0 0]\n",
      " [1 0 1 0 0 0 0 0 0]\n",
      " [1 1 0 1 0 0 0 0 0]\n",
      " [1 0 1 0 1 1 0 0 0]\n",
      " [0 0 0 1 0 1 1 1 0]\n",
      " [0 0 0 1 1 0 1 1 0]\n",
      " [0 0 0 0 1 1 0 1 1]\n",
      " [0 0 0 0 1 1 1 0 0]\n",
      " [0 0 0 0 0 0 1 0 0]]\n"
     ]
    }
   ],
   "source": [
    "import numpy as np\n",
    "\n",
    "A = np.array([[0,1,1,1,0,0,0,0,0],[1,0,1,0,0,0,0,0,0],[1,1,0,1,0,0,0,0,0],[1,0,1,0,1,1,0,0,0],[0,0,0,1,0,1,1,1,0],\n",
    "              [0,0,0,1,1,0,1,1,0],[0,0,0,0,1,1,0,1,1],[0,0,0,0,1,1,1,0,0],[0,0,0,0,0,0,1,0,0]])\n",
    "mat_size = len(A)\n",
    "print(\"Size Graph: \", mat_size,\":\")\n",
    "print(A)"
   ]
  },
  {
   "cell_type": "markdown",
   "id": "9c591b3c",
   "metadata": {},
   "source": [
    "### 3.2/ Degree Centrality:"
   ]
  },
  {
   "cell_type": "code",
   "execution_count": 82,
   "id": "32485eb9",
   "metadata": {},
   "outputs": [],
   "source": [
    "temp = A.copy()\n",
    "\n",
    "\n",
    "def sum_of_row(graph, a):\n",
    "    degSum = 0\n",
    "    for column in range(mat_size):\n",
    "        degSum += graph[a,column]\n",
    "    return degSum\n",
    "        \n",
    "# Degree Centrality:\n",
    "def degreeCentrality(a):\n",
    "    degSum = sum_of_row(temp, a)\n",
    "    result = (degSum/(mat_size-1))\n",
    "    \n",
    "    return result"
   ]
  },
  {
   "cell_type": "code",
   "execution_count": 85,
   "id": "eb514760",
   "metadata": {},
   "outputs": [
    {
     "name": "stdout",
     "output_type": "stream",
     "text": [
      "Degree Centralities of the Graph: \n",
      " [0.375, 0.25, 0.375, 0.5, 0.5, 0.5, 0.5, 0.375, 0.125]\n"
     ]
    }
   ],
   "source": [
    "DCValues = [float(degreeCentrality(a)) for a in range(mat_size)]\n",
    "print(\"Degree Centralities of the Graph: \\n\", DCValues)"
   ]
  },
  {
   "cell_type": "markdown",
   "id": "61b93505",
   "metadata": {},
   "source": [
    "#### 3.2.1/ Comparing the Computed values with the Networkx solutions:\n"
   ]
  },
  {
   "cell_type": "code",
   "execution_count": 87,
   "id": "38da05c2",
   "metadata": {},
   "outputs": [
    {
     "name": "stdout",
     "output_type": "stream",
     "text": [
      "Calculated Degree Centralities: \n",
      " [0.375, 0.25, 0.375, 0.5, 0.5, 0.5, 0.5, 0.375, 0.125]\n",
      "\n",
      "NetworkX Degree Centralities: \n",
      " {0: 0.375, 1: 0.25, 2: 0.375, 3: 0.5, 4: 0.5, 5: 0.5, 6: 0.5, 7: 0.375, 8: 0.125}\n"
     ]
    }
   ],
   "source": [
    "H = nx.from_numpy_array(A)\n",
    "DCValues = [float(degreeCentrality(a)) for a in range(mat_size)]\n",
    "print(\"Calculated Degree Centralities: \\n\", DCValues)\n",
    "print(\"\\nNetworkX Degree Centralities: \\n\", nx.degree_centrality(H))"
   ]
  },
  {
   "cell_type": "markdown",
   "id": "b4f14d0b",
   "metadata": {},
   "source": [
    "### 3.3/  Betweenness Centrality"
   ]
  },
  {
   "cell_type": "code",
   "execution_count": 121,
   "id": "dc9ec7dc",
   "metadata": {},
   "outputs": [],
   "source": [
    "# Using NetworkX only to calculate the shortest path:\n",
    "import networkx as nx\n",
    "\n",
    "# Converting it to a NetworkX Graph:\n",
    "temp_Graph = nx.from_numpy_array(temp)"
   ]
  },
  {
   "cell_type": "code",
   "execution_count": 122,
   "id": "939b4199",
   "metadata": {},
   "outputs": [
    {
     "data": {
      "text/plain": [
       "array([[0., 0., 0., 0., 0., 0., 0., 0., 0.],\n",
       "       [0., 0., 0., 0., 0., 0., 0., 0., 0.],\n",
       "       [0., 0., 0., 0., 0., 0., 0., 0., 0.],\n",
       "       [0., 0., 0., 0., 0., 0., 0., 0., 0.],\n",
       "       [0., 0., 0., 0., 0., 0., 0., 0., 0.],\n",
       "       [0., 0., 0., 0., 0., 0., 0., 0., 0.],\n",
       "       [0., 0., 0., 0., 0., 0., 0., 0., 0.],\n",
       "       [0., 0., 0., 0., 0., 0., 0., 0., 0.],\n",
       "       [0., 0., 0., 0., 0., 0., 0., 0., 0.]])"
      ]
     },
     "execution_count": 122,
     "metadata": {},
     "output_type": "execute_result"
    }
   ],
   "source": [
    "step_mat = np.zeros((mat_size,mat_size))\n",
    "step_mat"
   ]
  },
  {
   "cell_type": "code",
   "execution_count": 124,
   "id": "0e783329",
   "metadata": {},
   "outputs": [
    {
     "name": "stdout",
     "output_type": "stream",
     "text": [
      "[[0. 1. 1. 1. 2. 2. 3. 3. 4.]\n",
      " [1. 0. 1. 2. 3. 3. 4. 4. 5.]\n",
      " [1. 1. 0. 1. 2. 2. 3. 3. 4.]\n",
      " [1. 2. 1. 0. 1. 1. 2. 2. 3.]\n",
      " [2. 3. 2. 1. 0. 1. 1. 1. 2.]\n",
      " [2. 3. 2. 1. 1. 0. 1. 1. 2.]\n",
      " [3. 4. 3. 2. 1. 1. 0. 1. 1.]\n",
      " [3. 4. 3. 2. 1. 1. 1. 0. 2.]\n",
      " [4. 5. 4. 3. 2. 2. 1. 2. 0.]]\n"
     ]
    }
   ],
   "source": [
    "def step_betn_nodes(step_mat):\n",
    "    for from_node in range(mat_size):\n",
    "        for to_node in range(mat_size):\n",
    "            lengthPath = nx.dijkstra_path_length(temp_Graph, from_node, to_node)\n",
    "            #print(\"Path Length: \",lengthPath)\n",
    "            step_mat[from_node][to_node] = lengthPath\n",
    "            step_mat[to_node][from_node] = lengthPath\n",
    "\n",
    "step_betn_nodes(step_mat)\n",
    "print(step_mat)\n",
    "\n",
    "pow_size = int(step_mat.max())+1\n",
    "A_powers = [np.linalg.matrix_power(A,m) for m in range(1,pow_size)]"
   ]
  },
  {
   "cell_type": "code",
   "execution_count": 125,
   "id": "19619636",
   "metadata": {},
   "outputs": [
    {
     "data": {
      "text/plain": [
       "array([[0., 0., 0., 0., 0., 0., 0., 0., 0.],\n",
       "       [0., 0., 0., 0., 0., 0., 0., 0., 0.],\n",
       "       [0., 0., 0., 0., 0., 0., 0., 0., 0.],\n",
       "       [0., 0., 0., 0., 0., 0., 0., 0., 0.],\n",
       "       [0., 0., 0., 0., 0., 0., 0., 0., 0.],\n",
       "       [0., 0., 0., 0., 0., 0., 0., 0., 0.],\n",
       "       [0., 0., 0., 0., 0., 0., 0., 0., 0.],\n",
       "       [0., 0., 0., 0., 0., 0., 0., 0., 0.],\n",
       "       [0., 0., 0., 0., 0., 0., 0., 0., 0.]])"
      ]
     },
     "execution_count": 125,
     "metadata": {},
     "output_type": "execute_result"
    }
   ],
   "source": [
    "A_powers\n",
    "sigma = np.zeros((mat_size,mat_size))\n",
    "sigma"
   ]
  },
  {
   "cell_type": "code",
   "execution_count": 126,
   "id": "a195cae4",
   "metadata": {},
   "outputs": [
    {
     "data": {
      "text/plain": [
       "array([[0., 0., 0., 0., 0., 0., 0., 0., 0.],\n",
       "       [0., 0., 0., 0., 0., 0., 0., 0., 0.],\n",
       "       [0., 0., 0., 0., 0., 0., 0., 0., 0.],\n",
       "       [0., 0., 0., 0., 0., 0., 0., 0., 0.],\n",
       "       [0., 0., 0., 0., 0., 0., 0., 0., 0.],\n",
       "       [0., 0., 0., 0., 0., 0., 0., 0., 0.],\n",
       "       [0., 0., 0., 0., 0., 0., 0., 0., 0.],\n",
       "       [0., 0., 0., 0., 0., 0., 0., 0., 0.],\n",
       "       [0., 0., 0., 0., 0., 0., 0., 0., 0.]])"
      ]
     },
     "execution_count": 126,
     "metadata": {},
     "output_type": "execute_result"
    }
   ],
   "source": [
    "min_lengths = np.zeros((mat_size,mat_size))\n",
    "min_lengths"
   ]
  },
  {
   "cell_type": "code",
   "execution_count": 127,
   "id": "b0765dd3",
   "metadata": {},
   "outputs": [],
   "source": [
    "for i in range(mat_size):\n",
    "    for j in range(mat_size):\n",
    "        for x in range(pow_size-1):\n",
    "            X = A_powers[x].copy()\n",
    "            if X[i,j] > 0 and i != j:\n",
    "                sigma[i,j] = X[i,j]\n",
    "                min_lengths[i,j] = x + 1\n",
    "                break"
   ]
  },
  {
   "cell_type": "code",
   "execution_count": 128,
   "id": "a754d8ce",
   "metadata": {},
   "outputs": [],
   "source": [
    "def sigma_through_jay(j):\n",
    "    # Number of shortest paths through node j\n",
    "    B = A.copy()\n",
    "    B[j] = np.zeros(mat_size)\n",
    "    B[:,j] = np.zeros(mat_size)\n",
    "    B_powers = [np.linalg.matrix_power(B,m) for m in [1,2,3,4,5]] ##[1,2,3,4,5]]\n",
    "    B_sigma = np.zeros((mat_size,mat_size))\n",
    "    B_min_lengths = np.zeros((mat_size,mat_size))\n",
    "    for i in range(mat_size):\n",
    "        for k in range(mat_size):\n",
    "            if i != k:\n",
    "                X = B_powers[int(min_lengths[i,k]-1)]\n",
    "                B_sigma[i,k] = X[i,k]\n",
    "    return (sigma - B_sigma)"
   ]
  },
  {
   "cell_type": "code",
   "execution_count": 129,
   "id": "f47f1efd",
   "metadata": {},
   "outputs": [],
   "source": [
    "def betweenness_centrality(j):\n",
    "    # Finally, the betweenness\n",
    "    sigst = sigma_through_jay(j)\n",
    "    total = 0\n",
    "    for i in range(mat_size):\n",
    "        for k in range(i):\n",
    "            if i != j and k != j:\n",
    "                total += sigst[i,k] / sigma[i,k]\n",
    "    # We return a single number.\n",
    "    return total"
   ]
  },
  {
   "cell_type": "code",
   "execution_count": 130,
   "id": "d54c084b",
   "metadata": {},
   "outputs": [
    {
     "name": "stdout",
     "output_type": "stream",
     "text": [
      "Betweenness Centralities of the Graph: \n",
      " [3.0, 0.0, 3.0, 15.0, 6.0, 6.0, 7.0, 0.0, 0.0]\n"
     ]
    }
   ],
   "source": [
    "betweennessCentralityValues = [float(betweenness_centrality(x)) for x in range(mat_size)]\n",
    "print(\"Betweenness Centralities of the Graph: \\n\", betweennessCentralityValues)"
   ]
  },
  {
   "cell_type": "markdown",
   "id": "767f0f83",
   "metadata": {},
   "source": [
    "#### 3.3.1/ Comparison"
   ]
  },
  {
   "cell_type": "code",
   "execution_count": 131,
   "id": "3afa4cbd",
   "metadata": {},
   "outputs": [
    {
     "name": "stdout",
     "output_type": "stream",
     "text": [
      "Calculated Betweenness Centralities: \n",
      " [3.0, 0.0, 3.0, 15.0, 6.0, 6.0, 7.0, 0.0, 0.0]\n",
      "\n",
      "NetworkX Betweenness Centralities: \n",
      " dict_values([3.0, 0.0, 3.0, 15.0, 6.0, 6.0, 7.0, 0.0, 0.0])\n"
     ]
    }
   ],
   "source": [
    "betweennessCentralityValues = [float(betweenness_centrality(x)) for x in range(mat_size)]\n",
    "print(\"Calculated Betweenness Centralities: \\n\", betweennessCentralityValues)\n",
    "print(\"\\nNetworkX Betweenness Centralities: \\n\", nx.betweenness_centrality(H, normalized=False).values())"
   ]
  },
  {
   "cell_type": "markdown",
   "id": "c9ff1d16",
   "metadata": {},
   "source": [
    "### 3.4/ Closeness Centrality:"
   ]
  },
  {
   "cell_type": "code",
   "execution_count": 88,
   "id": "af3a24c8",
   "metadata": {},
   "outputs": [
    {
     "name": "stdout",
     "output_type": "stream",
     "text": [
      "[[0. 1. 1. 1. 2. 2. 3. 3. 4.]\n",
      " [1. 0. 1. 2. 3. 3. 4. 4. 5.]\n",
      " [1. 1. 0. 1. 2. 2. 3. 3. 4.]\n",
      " [1. 2. 1. 0. 1. 1. 2. 2. 3.]\n",
      " [2. 3. 2. 1. 0. 1. 1. 1. 2.]\n",
      " [2. 3. 2. 1. 1. 0. 1. 1. 2.]\n",
      " [3. 4. 3. 2. 1. 1. 0. 1. 1.]\n",
      " [3. 4. 3. 2. 1. 1. 1. 0. 2.]\n",
      " [4. 5. 4. 3. 2. 2. 1. 2. 0.]]\n"
     ]
    }
   ],
   "source": [
    "# calculate the shortest path:\n",
    "import networkx as nx\n",
    "import numpy as np\n",
    "\n",
    "# Converting it to a NetworkX Graph:\n",
    "temp_Graph = nx.from_numpy_array(temp)\n",
    "\n",
    "# Creating a blank Step Matrix \n",
    "step_mat = np.zeros((mat_size,mat_size))\n",
    "# Calculate between nodes and save it in the step matrix:\n",
    "def step_betn_nodes(step_mat):\n",
    "    for from_node in range(mat_size):\n",
    "        for to_node in range(mat_size):\n",
    "            lengthPath = nx.dijkstra_path_length(temp_Graph, from_node, to_node)\n",
    "            #print(\"Path Length: \",lengthPath)\n",
    "            step_mat[from_node][to_node] = lengthPath\n",
    "            step_mat[to_node][from_node] = lengthPath\n",
    "\n",
    "step_betn_nodes(step_mat)\n",
    "print(step_mat)\n",
    "\n",
    "def closenessCentrality(b):\n",
    "    closeSum = sum_of_row(step_mat, b)\n",
    "    \n",
    "    # dividing the (n-1) nodes\n",
    "    result = ((mat_size-1)/closeSum)\n",
    "    \n",
    "    return result"
   ]
  },
  {
   "cell_type": "code",
   "execution_count": 91,
   "id": "f83ce955",
   "metadata": {},
   "outputs": [
    {
     "name": "stdout",
     "output_type": "stream",
     "text": [
      "Closeness Centralities: \n",
      " [0.47058823529411764, 0.34782608695652173, 0.47058823529411764, 0.6153846153846154, 0.6153846153846154, 0.6153846153846154, 0.5, 0.47058823529411764, 0.34782608695652173]\n"
     ]
    }
   ],
   "source": [
    "closenessCentralityValues = [float(closenessCentrality(b)) for b in range(mat_size)]\n",
    "print(\"Closeness Centralities: \\n\", closenessCentralityValues)"
   ]
  },
  {
   "cell_type": "markdown",
   "id": "014bf309",
   "metadata": {},
   "source": [
    "#### 3.4.1/ Comparing the Computed Closeness Centrality Values  with the Networkx solutions:"
   ]
  },
  {
   "cell_type": "code",
   "execution_count": 93,
   "id": "25b2f3d5",
   "metadata": {
    "scrolled": false
   },
   "outputs": [
    {
     "name": "stdout",
     "output_type": "stream",
     "text": [
      "Calculated Closeness: \n",
      " [0.47058823529411764, 0.34782608695652173, 0.47058823529411764, 0.6153846153846154, 0.6153846153846154, 0.6153846153846154, 0.5, 0.47058823529411764, 0.34782608695652173]\n",
      "\n",
      "NetworkX Closeness: \n",
      " {0: 0.47058823529411764, 1: 0.34782608695652173, 2: 0.47058823529411764, 3: 0.6153846153846154, 4: 0.6153846153846154, 5: 0.6153846153846154, 6: 0.5, 7: 0.47058823529411764, 8: 0.34782608695652173}\n"
     ]
    }
   ],
   "source": [
    "closenessCentralityValues = [float(closenessCentrality(b)) for b in range(mat_size)]\n",
    "print(\"Calculated Closeness: \\n\", closenessCentralityValues)\n",
    "print(\"\\nNetworkX Closeness: \\n\", nx.closeness_centrality(H))"
   ]
  },
  {
   "cell_type": "markdown",
   "id": "0c10fc1a",
   "metadata": {},
   "source": [
    "### 3.5/ Eigenvector Centrality:\n"
   ]
  },
  {
   "cell_type": "code",
   "execution_count": 95,
   "id": "63da7fc0",
   "metadata": {},
   "outputs": [
    {
     "name": "stdout",
     "output_type": "stream",
     "text": [
      "Eigen Vector Centralities of the Graph: \n",
      " [0.1957487957091835, 0.11168370323986566, 0.19574879570918338, 0.3787480253356783, 0.4680854763104227, 0.46808547631042285, 0.40997938953295365, 0.3840203838411054, 0.11695606174529301]\n"
     ]
    }
   ],
   "source": [
    "# Calculating Eigens of the graph\n",
    "w,v = np.linalg.eig(temp)\n",
    "# Index of the Maximum Absolute Eigen Value of the graph\n",
    "index = (np.abs(max(w, key=abs))).argmax()\n",
    "\n",
    "# Eigen Vector of the maximum Eigen Value\n",
    "eigenCentralityValues = [float(v[ecv,index]) for ecv in range(mat_size)]\n",
    "\n",
    "print(\"Eigen Vector Centralities of the Graph: \\n\", eigenCentralityValues)"
   ]
  },
  {
   "cell_type": "markdown",
   "id": "5c92514a",
   "metadata": {},
   "source": [
    "#### 3.5.1/ Comparison"
   ]
  },
  {
   "cell_type": "code",
   "execution_count": 96,
   "id": "2b0a4967",
   "metadata": {},
   "outputs": [
    {
     "name": "stdout",
     "output_type": "stream",
     "text": [
      "Calculated Eigen Vector Centralities: \n",
      " [0.1957487957091835, 0.11168370323986566, 0.19574879570918338, 0.3787480253356783, 0.4680854763104227, 0.46808547631042285, 0.40997938953295365, 0.3840203838411054, 0.11695606174529301]\n",
      "\n",
      "NetworkX Eigen Vector Centralities: \n",
      " {0: 0.19575404149708636, 1: 0.1116880543296416, 2: 0.19575404149708636, 3: 0.3787510773733839, 4: 0.4680839101306905, 5: 0.4680839101306905, 6: 0.40997658806938597, 7: 0.3840179229632457, 8: 0.11695489991950338}\n"
     ]
    }
   ],
   "source": [
    "eigenCentralityValues = [float(v[ecv,index]) for ecv in range(mat_size)]\n",
    "print(\"Calculated Eigen Vector Centralities: \\n\", eigenCentralityValues)\n",
    "print(\"\\nNetworkX Eigen Vector Centralities: \\n\", nx.eigenvector_centrality(H))"
   ]
  },
  {
   "cell_type": "markdown",
   "id": "6175efb9",
   "metadata": {},
   "source": [
    "## 3.6/ Katz Centrality"
   ]
  },
  {
   "cell_type": "code",
   "execution_count": 108,
   "id": "3ef2c0d5",
   "metadata": {},
   "outputs": [],
   "source": [
    "# Converting it to a NetworkX Graph:\n",
    "G_temp = nx.from_numpy_array(temp)\n",
    "#nx.draw(temp_Graph)"
   ]
  },
  {
   "cell_type": "code",
   "execution_count": 109,
   "id": "2552d5c2",
   "metadata": {},
   "outputs": [
    {
     "data": {
      "text/plain": [
       "{0: 0.32231142220857734,\n",
       " 1: 0.2893349955974206,\n",
       " 2: 0.32231142220857734,\n",
       " 3: 0.36274091133772884,\n",
       " 4: 0.367029925075744,\n",
       " 5: 0.367029925075744,\n",
       " 6: 0.3577487271446689,\n",
       " 7: 0.33405349846458715,\n",
       " 8: 0.26064758272427896}"
      ]
     },
     "execution_count": 109,
     "metadata": {},
     "output_type": "execute_result"
    }
   ],
   "source": [
    "#default value\n",
    "alpha = 1\n",
    "beta = 1\n",
    "max_iter = 1000\n",
    "tol = 1e-06\n",
    "weight = None\n",
    "\n",
    "nx.katz_centrality(G_temp)"
   ]
  },
  {
   "cell_type": "code",
   "execution_count": 114,
   "id": "16451c44",
   "metadata": {},
   "outputs": [
    {
     "data": {
      "text/plain": [
       "{0: 0.322,\n",
       " 1: 0.289,\n",
       " 2: 0.322,\n",
       " 3: 0.363,\n",
       " 4: 0.367,\n",
       " 5: 0.367,\n",
       " 6: 0.358,\n",
       " 7: 0.334,\n",
       " 8: 0.261}"
      ]
     },
     "execution_count": 114,
     "metadata": {},
     "output_type": "execute_result"
    }
   ],
   "source": [
    "from math import sqrt\n",
    "b = dict.fromkeys(G_temp,float(beta))\n",
    "\n",
    "def Katz(G, alpha=0.1, beta=1.0, max_iter=1000, tol=1.0e-6):\n",
    "    nnodes = G.number_of_nodes()\n",
    "    dict_v = dict([(n,0) for n in G])\n",
    "    b = dict.fromkeys(G,float(beta))\n",
    "    for i in range(max_iter):\n",
    "        xlast = dict_v\n",
    "        dict_v = dict.fromkeys(xlast, 0)\n",
    "        # y^T = anfa * x^T A - b\n",
    "        for n in dict_v:\n",
    "            for nbr in G[n]:\n",
    "                dict_v[nbr] += xlast[n] * G[n][nbr].get(weight, 1)\n",
    "        for n in dict_v:\n",
    "            dict_v[n] = alpha*dict_v[n] + b[n]\n",
    "        err = sum([abs(dict_v[n]-xlast[n]) for n in dict_v])\n",
    "        if err < nnodes*tol:\n",
    "            # normalize \n",
    "            s = 1.0/sqrt(sum(v**2 for v in dict_v.values()))\n",
    "            s= np.round(s,3)\n",
    "            for n in dict_v:\n",
    "                dict_v[n] *= s\n",
    "                dict_v[n] = float(np.round(dict_v[n],3))\n",
    "            return dict_v\n",
    "Katz(G_temp)"
   ]
  },
  {
   "cell_type": "markdown",
   "id": "c94e0125",
   "metadata": {},
   "source": [
    "### 3.6.1/ Comparison:"
   ]
  },
  {
   "cell_type": "code",
   "execution_count": 115,
   "id": "d287da41",
   "metadata": {},
   "outputs": [
    {
     "name": "stdout",
     "output_type": "stream",
     "text": [
      "Katz Centralities of the Graph: \n",
      " {1: 0.266, 2: 0.259, 3: 0.348, 4: 0.304, 15: 0.233, 9: 0.221, 10: 0.231, 5: 0.259, 8: 0.206, 11: 0.213, 12: 0.257, 6: 0.244, 17: 0.218, 16: 0.172, 7: 0.226, 14: 0.215, 13: 0.195}\n",
      "Katz Centralities NetworkX: \n",
      " {1: 0.26618993626002696, 2: 0.25852148990193397, 3: 0.34789011195803876, 4: 0.30380429431829625, 15: 0.23327053802129114, 9: 0.22137718593506467, 10: 0.23134469376305405, 5: 0.25869656644292643, 8: 0.20549255350345041, 11: 0.21263834616088179, 12: 0.2565554334351372, 6: 0.24429808778427545, 17: 0.21748417879464044, 16: 0.17214990077487388, 7: 0.22594164043918732, 14: 0.21497249250773137, 13: 0.19487287897431288}\n"
     ]
    }
   ],
   "source": [
    "print(\"Katz Centralities of the Graph: \\n\", Katz(G))\n",
    "print(\"Katz Centralities NetworkX: \\n\", nx.katz_centrality(G))"
   ]
  },
  {
   "cell_type": "markdown",
   "id": "d99daeb0",
   "metadata": {},
   "source": [
    "### 3.7/ Pagerank Centrality"
   ]
  },
  {
   "cell_type": "code",
   "execution_count": 116,
   "id": "97589ae5",
   "metadata": {},
   "outputs": [
    {
     "data": {
      "text/plain": [
       "{1: 0.08510275171090052,\n",
       " 2: 0.07036723548249191,\n",
       " 3: 0.07210878220106506,\n",
       " 4: 0.07793068159840727,\n",
       " 15: 0.05086993441701706,\n",
       " 9: 0.055565198429846537,\n",
       " 10: 0.05703894111148803,\n",
       " 5: 0.04910224124242256,\n",
       " 8: 0.05483671362647849,\n",
       " 11: 0.030132480983098633,\n",
       " 12: 0.05929092165421931,\n",
       " 6: 0.06038211879945627,\n",
       " 17: 0.05616702153345073,\n",
       " 16: 0.05330205121583224,\n",
       " 7: 0.0558770073826599,\n",
       " 14: 0.05866910324143484,\n",
       " 13: 0.05325681536973059}"
      ]
     },
     "execution_count": 116,
     "metadata": {},
     "output_type": "execute_result"
    }
   ],
   "source": [
    "from networkx.algorithms.link_analysis.pagerank_alg import pagerank\n",
    "\n",
    "pagerank(G, alpha=0.85, personalization=None, max_iter=100, tol=1e-06, nstart=None, weight='weight', dangling=None)\n"
   ]
  },
  {
   "cell_type": "code",
   "execution_count": 117,
   "id": "a0bf6dff",
   "metadata": {},
   "outputs": [
    {
     "data": {
      "image/png": "[encoded data removed]",
      "text/plain": [
       "<Figure size 640x480 with 1 Axes>"
      ]
     },
     "metadata": {},
     "output_type": "display_data"
    }
   ],
   "source": [
    "# Converting it to a NetworkX Graph:\n",
    "G_temp = nx.from_numpy_array(temp)\n",
    "nx.draw(temp_Graph)"
   ]
  },
  {
   "cell_type": "code",
   "execution_count": 118,
   "id": "3650c301",
   "metadata": {},
   "outputs": [],
   "source": [
    "import numpy as np\n",
    "import scipy as sp\n",
    "import scipy.sparse \n",
    "\n",
    "def mypagerank(G,alpha=0.85, max_iter=100,tol=1.0e-6):\n",
    "    \n",
    "    N = len(G)\n",
    "    nodelist = list(G)\n",
    "    A = nx.to_scipy_sparse_array(G, nodelist=nodelist, dtype=float)\n",
    "    S = A.sum(axis=1)\n",
    "    S[S != 0] = 1.0 / S[S != 0]\n",
    "    Q = sp.sparse.csr_array(sp.sparse.spdiags(S.T, 0, *A.shape))\n",
    "    A = Q @ A\n",
    "    # initial vector\n",
    "    x = np.repeat(1.0 / N, N)\n",
    "    p = np.repeat(1.0 / N, N)\n",
    "    \n",
    "    dangling_weights = p\n",
    "    is_dangling = np.where(S == 0)[0]\n",
    "    for _ in range(max_iter):\n",
    "        xlast = x\n",
    "        x = alpha * (x @ A + sum(x[is_dangling]) * dangling_weights) + (1 - alpha) * p\n",
    "        #l1 norm\n",
    "        err = np.absolute(x - xlast).sum()\n",
    "        if err < N * tol:\n",
    "            return dict(zip(nodelist, map(float, np.round(x,4))))"
   ]
  },
  {
   "cell_type": "code",
   "execution_count": 119,
   "id": "74772132",
   "metadata": {},
   "outputs": [
    {
     "data": {
      "text/plain": [
       "{1: 0.0851,\n",
       " 2: 0.0704,\n",
       " 3: 0.0721,\n",
       " 4: 0.0779,\n",
       " 15: 0.0509,\n",
       " 9: 0.0556,\n",
       " 10: 0.057,\n",
       " 5: 0.0491,\n",
       " 8: 0.0548,\n",
       " 11: 0.0301,\n",
       " 12: 0.0593,\n",
       " 6: 0.0604,\n",
       " 17: 0.0562,\n",
       " 16: 0.0533,\n",
       " 7: 0.0559,\n",
       " 14: 0.0587,\n",
       " 13: 0.0533}"
      ]
     },
     "execution_count": 119,
     "metadata": {},
     "output_type": "execute_result"
    }
   ],
   "source": [
    "mypagerank(G)"
   ]
  },
  {
   "cell_type": "markdown",
   "id": "2c1999e4",
   "metadata": {},
   "source": [
    "#### 3.7.1/ Comparison"
   ]
  },
  {
   "cell_type": "code",
   "execution_count": 120,
   "id": "b113e70b",
   "metadata": {},
   "outputs": [
    {
     "name": "stdout",
     "output_type": "stream",
     "text": [
      "pagerank Centralities of the Graph: \n",
      " {1: 0.0851, 2: 0.0704, 3: 0.0721, 4: 0.0779, 15: 0.0509, 9: 0.0556, 10: 0.057, 5: 0.0491, 8: 0.0548, 11: 0.0301, 12: 0.0593, 6: 0.0604, 17: 0.0562, 16: 0.0533, 7: 0.0559, 14: 0.0587, 13: 0.0533}\n",
      "pagerank Centralities NetworkX: \n",
      " {1: 0.08510275171090052, 2: 0.07036723548249191, 3: 0.07210878220106506, 4: 0.07793068159840727, 15: 0.05086993441701706, 9: 0.055565198429846537, 10: 0.05703894111148803, 5: 0.04910224124242256, 8: 0.05483671362647849, 11: 0.030132480983098633, 12: 0.05929092165421931, 6: 0.06038211879945627, 17: 0.05616702153345073, 16: 0.05330205121583224, 7: 0.0558770073826599, 14: 0.05866910324143484, 13: 0.05325681536973059}\n"
     ]
    }
   ],
   "source": [
    "print(\"pagerank Centralities of the Graph: \\n\",mypagerank(G))\n",
    "print(\"pagerank Centralities NetworkX: \\n\", nx.pagerank(G, weight='weight'))"
   ]
  }
 ],
 "metadata": {
  "kernelspec": {
   "display_name": "Python 3",
   "language": "python",
   "name": "python3"
  },
  "language_info": {
   "codemirror_mode": {
    "name": "ipython",
    "version": 3
   },
   "file_extension": ".py",
   "mimetype": "text/x-python",
   "name": "python",
   "nbconvert_exporter": "python",
   "pygments_lexer": "ipython3",
   "version": "3.11.11"
  }
 },
 "nbformat": 4,
 "nbformat_minor": 5
}
