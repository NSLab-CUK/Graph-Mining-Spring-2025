{
 "cells": [
  {
   "cell_type": "markdown",
   "id": "09156db2",
   "metadata": {},
   "source": [
    "# 1. Create a friend network that satisfies the following requirements:\n",
    "+ This is a weighted graph.\n",
    "+ Each friend is a node.\n",
    "+ The edge between two nodes is the distance between their homes.\n",
    "+ Your friends can be connected.\n",
    "+ The graph contains at least 22 people.\n",
    "+ Add the edge to show a relationship between friends. Example: best friend, couple, married, etc...\n",
    "+ Visualize your graph using spring and circular layouts.\n",
    "\n",
    "** Following the sample graph in practice, you can create a sample friend network (do not need to be a real network).\n"
   ]
  },
  {
   "cell_type": "markdown",
   "id": "5213e8c3",
   "metadata": {},
   "source": [
    "# 2. Draw Betweenness Centrality in a graph:\n",
    "+ Load CE_PG graph from the file: [data/CE-PG.txt](https://github.com/NSLab-CUK/Graph-Mining-Spring-2024/tree/main/W3/data/CE-PG.txt) in the class github.\n",
    "+ Draw betweenness centrality in the graph with 2 types of layouts: Spring layout and Circular layout.\n",
    "+ Save the figures of each layout."
   ]
  },
  {
   "cell_type": "markdown",
   "id": "667e2c46-1692-4566-bfad-a2a0934b6e8f",
   "metadata": {},
   "source": [
    "# 3. Analyze and visualize in a graph:\n",
    "+ Load CE_PG graph from the file: [data/CE-PG.txt](https://github.com/NSLab-CUK/Graph-Mining-Spring-2024/tree/main/W3/data/CE-PG.txt) in the class github.\n",
    "+ Consider those methods to analyze and remove unimportant nodes: random, degree, closeness, katz, pagerank, eigenvector.\n",
    "+ Draw betweenness centrality in the graph and save the figures of each good visualization. (**for example: a good visualization is what we can see a clear structure of the graph, the relationship among important nodes, and so on**)."
   ]
  },
  {
   "cell_type": "markdown",
   "id": "be88883b",
   "metadata": {},
   "source": [
    "# 4. Complete the following requirements:\n",
    "### 4.1. Load graph from edge-list file [data/WormNet.v3.benchmark.txt](https://github.com/NSLab-CUK/Graph-Mining-Spring-2024/tree/main/W3/data/WormNet.v3.benchmark.txt)\n",
    "### 4.2. Then, you store this graph in a gexf file.\n",
    "### 4.3. Finally, you load this file in Gephi and compute Centrality methods to visualize your graph and save figures for them. Visualizing your graph in circular and spring layouts combining with these methods:\n",
    "+ Betweenness Centrality\n",
    "+ Degree\n",
    "+ Eigen Centrality\n",
    "### 4.4. In Gephi, compute the statistic betweenness, centrality. Then, print as a PDF."
   ]
  },
  {
   "cell_type": "markdown",
   "id": "ea599ecd",
   "metadata": {},
   "source": []
  }
 ],
 "metadata": {
  "kernelspec": {
   "display_name": "Python 3 (ipykernel)",
   "language": "python",
   "name": "python3"
  },
  "language_info": {
   "codemirror_mode": {
    "name": "ipython",
    "version": 3
   },
   "file_extension": ".py",
   "mimetype": "text/x-python",
   "name": "python",
   "nbconvert_exporter": "python",
   "pygments_lexer": "ipython3",
   "version": "3.11.7"
  }
 },
 "nbformat": 4,
 "nbformat_minor": 5
}
